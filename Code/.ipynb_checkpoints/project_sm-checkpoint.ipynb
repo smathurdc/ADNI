{
 "cells": [
  {
   "cell_type": "code",
   "execution_count": 1,
   "metadata": {
    "collapsed": true
   },
   "outputs": [],
   "source": [
    "import numpy as np\n",
    "import pandas as pd\n",
    "import matplotlib\n",
    "import matplotlib.pyplot as plt\n",
    "import warnings\n",
    "warnings.filterwarnings('ignore')\n",
    "%matplotlib inline"
   ]
  },
  {
   "cell_type": "code",
   "execution_count": 2,
   "metadata": {
    "collapsed": true
   },
   "outputs": [],
   "source": [
    "#Read datafiles\n",
    "adnimerge = pd.read_csv(\"../Data/foi/ADNIMERGE.csv\")\n",
    "adnimerge = adnimerge[['RID','EXAMDATE','AGE','DX_bl','DX','Month_bl']]\n",
    "adnimerge.head()\n",
    "\n",
    "mem_ef = pd.read_csv(\"../Data/foi/UWNPSYCHSUM_10_27_17.csv\")\n",
    "bl = mem_ef[mem_ef.VISCODE ==\"bl\"]\n",
    "bl = bl[['RID','ADNI_MEM','ADNI_EF']]\n",
    "bl.columns = ['RID','ADNI_MEM_bl','ADNI_EF_bl']\n",
    "m = mem_ef[mem_ef.VISCODE != \"bl\"] \n",
    "m = m[['RID','EXAMDATE','ADNI_MEM','ADNI_EF']]\n",
    "\n"
   ]
  },
  {
   "cell_type": "code",
   "execution_count": 3,
   "metadata": {
    "collapsed": true
   },
   "outputs": [],
   "source": [
    "#Removing rows with NAs\n",
    "mem = pd.merge(m,bl,on=\"RID\")\n",
    "mem = mem.dropna(axis=0, how='any')\n"
   ]
  },
  {
   "cell_type": "code",
   "execution_count": 4,
   "metadata": {},
   "outputs": [
    {
     "data": {
      "text/html": [
       "<div>\n",
       "<style>\n",
       "    .dataframe thead tr:only-child th {\n",
       "        text-align: right;\n",
       "    }\n",
       "\n",
       "    .dataframe thead th {\n",
       "        text-align: left;\n",
       "    }\n",
       "\n",
       "    .dataframe tbody tr th {\n",
       "        vertical-align: top;\n",
       "    }\n",
       "</style>\n",
       "<table border=\"1\" class=\"dataframe\">\n",
       "  <thead>\n",
       "    <tr style=\"text-align: right;\">\n",
       "      <th></th>\n",
       "      <th>RID</th>\n",
       "      <th>EXAMDATE</th>\n",
       "      <th>ADNI_MEM</th>\n",
       "      <th>ADNI_EF</th>\n",
       "      <th>ADNI_MEM_bl</th>\n",
       "      <th>ADNI_EF_bl</th>\n",
       "      <th>AGE</th>\n",
       "      <th>DX_bl</th>\n",
       "      <th>DX</th>\n",
       "      <th>Month_bl</th>\n",
       "    </tr>\n",
       "  </thead>\n",
       "  <tbody>\n",
       "    <tr>\n",
       "      <th>0</th>\n",
       "      <td>2</td>\n",
       "      <td>2006-03-06</td>\n",
       "      <td>0.585</td>\n",
       "      <td>-0.197</td>\n",
       "      <td>0.503</td>\n",
       "      <td>-0.060</td>\n",
       "      <td>74.3</td>\n",
       "      <td>CN</td>\n",
       "      <td>CN</td>\n",
       "      <td>5.86885</td>\n",
       "    </tr>\n",
       "    <tr>\n",
       "      <th>1</th>\n",
       "      <td>2</td>\n",
       "      <td>2008-08-27</td>\n",
       "      <td>0.403</td>\n",
       "      <td>-0.008</td>\n",
       "      <td>0.503</td>\n",
       "      <td>-0.060</td>\n",
       "      <td>74.3</td>\n",
       "      <td>CN</td>\n",
       "      <td>CN</td>\n",
       "      <td>35.54100</td>\n",
       "    </tr>\n",
       "    <tr>\n",
       "      <th>2</th>\n",
       "      <td>2</td>\n",
       "      <td>2013-09-09</td>\n",
       "      <td>0.325</td>\n",
       "      <td>-0.726</td>\n",
       "      <td>0.503</td>\n",
       "      <td>-0.060</td>\n",
       "      <td>74.3</td>\n",
       "      <td>CN</td>\n",
       "      <td>CN</td>\n",
       "      <td>95.83610</td>\n",
       "    </tr>\n",
       "    <tr>\n",
       "      <th>3</th>\n",
       "      <td>2</td>\n",
       "      <td>2011-09-19</td>\n",
       "      <td>0.349</td>\n",
       "      <td>0.304</td>\n",
       "      <td>0.503</td>\n",
       "      <td>-0.060</td>\n",
       "      <td>74.3</td>\n",
       "      <td>CN</td>\n",
       "      <td>CN</td>\n",
       "      <td>72.19670</td>\n",
       "    </tr>\n",
       "    <tr>\n",
       "      <th>4</th>\n",
       "      <td>2</td>\n",
       "      <td>2010-09-22</td>\n",
       "      <td>0.352</td>\n",
       "      <td>-0.295</td>\n",
       "      <td>0.503</td>\n",
       "      <td>-0.060</td>\n",
       "      <td>74.3</td>\n",
       "      <td>CN</td>\n",
       "      <td>CN</td>\n",
       "      <td>60.32790</td>\n",
       "    </tr>\n",
       "    <tr>\n",
       "      <th>5</th>\n",
       "      <td>2</td>\n",
       "      <td>2015-09-22</td>\n",
       "      <td>0.384</td>\n",
       "      <td>-0.553</td>\n",
       "      <td>0.503</td>\n",
       "      <td>-0.060</td>\n",
       "      <td>74.3</td>\n",
       "      <td>CN</td>\n",
       "      <td>CN</td>\n",
       "      <td>120.19700</td>\n",
       "    </tr>\n",
       "    <tr>\n",
       "      <th>6</th>\n",
       "      <td>2</td>\n",
       "      <td>2012-09-26</td>\n",
       "      <td>0.425</td>\n",
       "      <td>-0.234</td>\n",
       "      <td>0.503</td>\n",
       "      <td>-0.060</td>\n",
       "      <td>74.3</td>\n",
       "      <td>CN</td>\n",
       "      <td>MCI</td>\n",
       "      <td>84.42620</td>\n",
       "    </tr>\n",
       "    <tr>\n",
       "      <th>10</th>\n",
       "      <td>4</td>\n",
       "      <td>2006-05-02</td>\n",
       "      <td>0.315</td>\n",
       "      <td>-0.688</td>\n",
       "      <td>0.116</td>\n",
       "      <td>-0.925</td>\n",
       "      <td>67.5</td>\n",
       "      <td>LMCI</td>\n",
       "      <td>MCI</td>\n",
       "      <td>5.73770</td>\n",
       "    </tr>\n",
       "    <tr>\n",
       "      <th>11</th>\n",
       "      <td>4</td>\n",
       "      <td>2007-05-14</td>\n",
       "      <td>0.548</td>\n",
       "      <td>-0.471</td>\n",
       "      <td>0.116</td>\n",
       "      <td>-0.925</td>\n",
       "      <td>67.5</td>\n",
       "      <td>LMCI</td>\n",
       "      <td>MCI</td>\n",
       "      <td>18.09840</td>\n",
       "    </tr>\n",
       "    <tr>\n",
       "      <th>12</th>\n",
       "      <td>4</td>\n",
       "      <td>2006-11-14</td>\n",
       "      <td>0.201</td>\n",
       "      <td>-0.743</td>\n",
       "      <td>0.116</td>\n",
       "      <td>-0.925</td>\n",
       "      <td>67.5</td>\n",
       "      <td>LMCI</td>\n",
       "      <td>MCI</td>\n",
       "      <td>12.16390</td>\n",
       "    </tr>\n",
       "  </tbody>\n",
       "</table>\n",
       "</div>"
      ],
      "text/plain": [
       "    RID   EXAMDATE  ADNI_MEM  ADNI_EF  ADNI_MEM_bl  ADNI_EF_bl   AGE DX_bl  \\\n",
       "0     2 2006-03-06     0.585   -0.197        0.503      -0.060  74.3    CN   \n",
       "1     2 2008-08-27     0.403   -0.008        0.503      -0.060  74.3    CN   \n",
       "2     2 2013-09-09     0.325   -0.726        0.503      -0.060  74.3    CN   \n",
       "3     2 2011-09-19     0.349    0.304        0.503      -0.060  74.3    CN   \n",
       "4     2 2010-09-22     0.352   -0.295        0.503      -0.060  74.3    CN   \n",
       "5     2 2015-09-22     0.384   -0.553        0.503      -0.060  74.3    CN   \n",
       "6     2 2012-09-26     0.425   -0.234        0.503      -0.060  74.3    CN   \n",
       "10    4 2006-05-02     0.315   -0.688        0.116      -0.925  67.5  LMCI   \n",
       "11    4 2007-05-14     0.548   -0.471        0.116      -0.925  67.5  LMCI   \n",
       "12    4 2006-11-14     0.201   -0.743        0.116      -0.925  67.5  LMCI   \n",
       "\n",
       "     DX   Month_bl  \n",
       "0    CN    5.86885  \n",
       "1    CN   35.54100  \n",
       "2    CN   95.83610  \n",
       "3    CN   72.19670  \n",
       "4    CN   60.32790  \n",
       "5    CN  120.19700  \n",
       "6   MCI   84.42620  \n",
       "10  MCI    5.73770  \n",
       "11  MCI   18.09840  \n",
       "12  MCI   12.16390  "
      ]
     },
     "execution_count": 4,
     "metadata": {},
     "output_type": "execute_result"
    }
   ],
   "source": [
    "#AdNImerge file - removing subjects that had the baseline diagnosis as AD\n",
    "adnimerge.head()\n",
    "adnimerge['EXAMDATE'] = pd.to_datetime(adnimerge['EXAMDATE'])\n",
    "mem['EXAMDATE'] = pd.to_datetime(mem['EXAMDATE'])\n",
    "x = pd.merge(mem,adnimerge,how='inner',on=['RID','EXAMDATE'])\n",
    "x = x[x.DX_bl != \"AD\"]\n",
    "x.head(10)"
   ]
  },
  {
   "cell_type": "code",
   "execution_count": 5,
   "metadata": {},
   "outputs": [
    {
     "data": {
      "text/plain": [
       "count    294.000000\n",
       "mean      31.891713\n",
       "std       26.857860\n",
       "min        5.049180\n",
       "25%       12.163900\n",
       "50%       23.819700\n",
       "75%       39.557400\n",
       "max      119.869000\n",
       "Name: Month_bl, dtype: float64"
      ]
     },
     "execution_count": 5,
     "metadata": {},
     "output_type": "execute_result"
    },
    {
     "data": {
      "image/png": "[encoded data removed]",
      "text/plain": [
       "<matplotlib.figure.Figure at 0x84803d0>"
      ]
     },
     "metadata": {},
     "output_type": "display_data"
    }
   ],
   "source": [
    "#Extracting subjects that converted to Dementia and checking the distribution of the minimum number of months for the\n",
    "# change\n",
    "x1 = x[x.DX_bl != x.DX]\n",
    "x2 = x1[x1.DX == \"Dementia\"]\n",
    "p = x2.groupby(\"RID\")['Month_bl'].min()\n",
    "plt.hist(p)\n",
    "plt.xlabel('Time in Months')\n",
    "plt.ylabel('Number of Subjects')\n",
    "plt.title('Minimum Number of Months to Convert to AD')\n",
    "p.describe()"
   ]
  },
  {
   "cell_type": "code",
   "execution_count": 6,
   "metadata": {
    "collapsed": true
   },
   "outputs": [],
   "source": [
    "#Using min and 75% cutoffs\n",
    "ll = 5.04\n",
    "ul = 39.55\n",
    "q = pd.DataFrame({'RID':x2.RID.unique().tolist(), 'Month_bl':p.tolist()})\n",
    "#Extracting the minimum Month_bl for subjects who convert to Dementia\n",
    "z1 = pd.merge(x2,q,how='inner',on=['RID','Month_bl'])\n",
    "z1 = z1[z1.Month_bl >ll]\n",
    "z1 = z1[z1.Month_bl <ul]\n",
    "t = p.tolist()\n",
    "#Removing Dementia patients from the larger dataframe\n",
    "x1 = x[~x.RID.isin(t)]\n",
    "x1 = x1[x1.Month_bl >ll]\n",
    "x1 = x1[x1.Month_bl <ul]\n",
    "t1 = x1.RID.unique().tolist()\n",
    "z2 = pd.DataFrame()\n",
    "for i in t1:\n",
    "    k = x1[x1.RID ==i]\n",
    "    z2 = pd.concat([z2,k.sample(1)])\n"
   ]
  },
  {
   "cell_type": "code",
   "execution_count": 7,
   "metadata": {},
   "outputs": [
    {
     "data": {
      "text/html": [
       "<div>\n",
       "<style>\n",
       "    .dataframe thead tr:only-child th {\n",
       "        text-align: right;\n",
       "    }\n",
       "\n",
       "    .dataframe thead th {\n",
       "        text-align: left;\n",
       "    }\n",
       "\n",
       "    .dataframe tbody tr th {\n",
       "        vertical-align: top;\n",
       "    }\n",
       "</style>\n",
       "<table border=\"1\" class=\"dataframe\">\n",
       "  <thead>\n",
       "    <tr style=\"text-align: right;\">\n",
       "      <th></th>\n",
       "      <th>RID</th>\n",
       "      <th>EXAMDATE</th>\n",
       "      <th>ADNI_MEM</th>\n",
       "      <th>ADNI_EF</th>\n",
       "      <th>ADNI_MEM_bl</th>\n",
       "      <th>ADNI_EF_bl</th>\n",
       "      <th>AGE</th>\n",
       "      <th>DX_bl</th>\n",
       "      <th>DX</th>\n",
       "      <th>Month_bl</th>\n",
       "      <th>EF_change</th>\n",
       "      <th>MEM_change</th>\n",
       "    </tr>\n",
       "  </thead>\n",
       "  <tbody>\n",
       "    <tr>\n",
       "      <th>0</th>\n",
       "      <td>30</td>\n",
       "      <td>2006-04-13</td>\n",
       "      <td>-0.638</td>\n",
       "      <td>-0.378</td>\n",
       "      <td>-0.261</td>\n",
       "      <td>-0.394</td>\n",
       "      <td>80.0</td>\n",
       "      <td>LMCI</td>\n",
       "      <td>Dementia</td>\n",
       "      <td>5.73770</td>\n",
       "      <td>0.040609</td>\n",
       "      <td>-1.444444</td>\n",
       "    </tr>\n",
       "    <tr>\n",
       "      <th>1</th>\n",
       "      <td>41</td>\n",
       "      <td>2007-05-14</td>\n",
       "      <td>-1.575</td>\n",
       "      <td>0.732</td>\n",
       "      <td>-1.268</td>\n",
       "      <td>0.891</td>\n",
       "      <td>70.9</td>\n",
       "      <td>LMCI</td>\n",
       "      <td>Dementia</td>\n",
       "      <td>17.90160</td>\n",
       "      <td>-0.178451</td>\n",
       "      <td>-0.242114</td>\n",
       "    </tr>\n",
       "    <tr>\n",
       "      <th>2</th>\n",
       "      <td>42</td>\n",
       "      <td>2006-11-09</td>\n",
       "      <td>-0.030</td>\n",
       "      <td>0.103</td>\n",
       "      <td>-0.050</td>\n",
       "      <td>0.310</td>\n",
       "      <td>72.8</td>\n",
       "      <td>LMCI</td>\n",
       "      <td>Dementia</td>\n",
       "      <td>11.93440</td>\n",
       "      <td>-0.667742</td>\n",
       "      <td>0.400000</td>\n",
       "    </tr>\n",
       "    <tr>\n",
       "      <th>3</th>\n",
       "      <td>45</td>\n",
       "      <td>2007-03-07</td>\n",
       "      <td>-1.405</td>\n",
       "      <td>-0.735</td>\n",
       "      <td>-0.511</td>\n",
       "      <td>-0.211</td>\n",
       "      <td>85.9</td>\n",
       "      <td>LMCI</td>\n",
       "      <td>Dementia</td>\n",
       "      <td>13.77050</td>\n",
       "      <td>-2.483412</td>\n",
       "      <td>-1.749511</td>\n",
       "    </tr>\n",
       "    <tr>\n",
       "      <th>4</th>\n",
       "      <td>50</td>\n",
       "      <td>2006-06-07</td>\n",
       "      <td>-0.555</td>\n",
       "      <td>-2.384</td>\n",
       "      <td>-0.022</td>\n",
       "      <td>-1.709</td>\n",
       "      <td>77.6</td>\n",
       "      <td>LMCI</td>\n",
       "      <td>Dementia</td>\n",
       "      <td>6.13115</td>\n",
       "      <td>-0.394968</td>\n",
       "      <td>-24.227273</td>\n",
       "    </tr>\n",
       "  </tbody>\n",
       "</table>\n",
       "</div>"
      ],
      "text/plain": [
       "   RID   EXAMDATE  ADNI_MEM  ADNI_EF  ADNI_MEM_bl  ADNI_EF_bl   AGE DX_bl  \\\n",
       "0   30 2006-04-13    -0.638   -0.378       -0.261      -0.394  80.0  LMCI   \n",
       "1   41 2007-05-14    -1.575    0.732       -1.268       0.891  70.9  LMCI   \n",
       "2   42 2006-11-09    -0.030    0.103       -0.050       0.310  72.8  LMCI   \n",
       "3   45 2007-03-07    -1.405   -0.735       -0.511      -0.211  85.9  LMCI   \n",
       "4   50 2006-06-07    -0.555   -2.384       -0.022      -1.709  77.6  LMCI   \n",
       "\n",
       "         DX  Month_bl  EF_change  MEM_change  \n",
       "0  Dementia   5.73770   0.040609   -1.444444  \n",
       "1  Dementia  17.90160  -0.178451   -0.242114  \n",
       "2  Dementia  11.93440  -0.667742    0.400000  \n",
       "3  Dementia  13.77050  -2.483412   -1.749511  \n",
       "4  Dementia   6.13115  -0.394968  -24.227273  "
      ]
     },
     "execution_count": 7,
     "metadata": {},
     "output_type": "execute_result"
    }
   ],
   "source": [
    "d = pd.concat([z1,z2])\n",
    "d.describe()\n",
    "ef_ch = []\n",
    "mem_ch = []\n",
    "#Deviation from baseline\n",
    "d['EF_change'] = (d['ADNI_EF'] - d['ADNI_EF_bl'])/abs(d['ADNI_EF_bl'])\n",
    "d['MEM_change'] = (d['ADNI_MEM'] - d['ADNI_MEM_bl'])/abs(d['ADNI_MEM_bl'])\n",
    "d.head()\n"
   ]
  },
  {
   "cell_type": "code",
   "execution_count": 8,
   "metadata": {},
   "outputs": [
    {
     "data": {
      "text/plain": [
       "<matplotlib.legend.Legend at 0x8621c70>"
      ]
     },
     "execution_count": 8,
     "metadata": {},
     "output_type": "execute_result"
    },
    {
     "data": {
      "image/png": "[encoded data removed]",
      "text/plain": [
       "<matplotlib.figure.Figure at 0x5b64ab0>"
      ]
     },
     "metadata": {},
     "output_type": "display_data"
    }
   ],
   "source": [
    "x = z1.Month_bl.tolist()\n",
    "y = z2.Month_bl.tolist()\n",
    "plt.hist(x,label=\"Dementia\")\n",
    "plt.title(\"Dementia-Non_Dementia - Month_bl\")\n",
    "plt.hist(y,alpha=0.3,label=\"No-Dementia\")\n",
    "plt.xlabel('Month of Follow up')\n",
    "plt.ylabel('# Subjects')\n",
    "plt.legend()\n"
   ]
  },
  {
   "cell_type": "code",
   "execution_count": 9,
   "metadata": {},
   "outputs": [
    {
     "data": {
      "text/plain": [
       "(1210, 13)"
      ]
     },
     "execution_count": 9,
     "metadata": {},
     "output_type": "execute_result"
    }
   ],
   "source": [
    "\n",
    "d['grp'] = np.where(d.DX == \"Dementia\", 'Dementia', 'No_Dementia')\n",
    "d.head()\n",
    "d.shape"
   ]
  },
  {
   "cell_type": "code",
   "execution_count": 10,
   "metadata": {},
   "outputs": [
    {
     "data": {
      "text/plain": [
       "<matplotlib.axes._subplots.AxesSubplot at 0x8846e50>"
      ]
     },
     "execution_count": 10,
     "metadata": {},
     "output_type": "execute_result"
    },
    {
     "data": {
      "image/png": "[encoded data removed]",
      "text/plain": [
       "<matplotlib.figure.Figure at 0x86692b0>"
      ]
     },
     "metadata": {},
     "output_type": "display_data"
    },
    {
     "data": {
      "image/png": "[encoded data removed]",
      "text/plain": [
       "<matplotlib.figure.Figure at 0x86697b0>"
      ]
     },
     "metadata": {},
     "output_type": "display_data"
    },
    {
     "data": {
      "image/png": "[encoded data removed]",
      "text/plain": [
       "<matplotlib.figure.Figure at 0x8588950>"
      ]
     },
     "metadata": {},
     "output_type": "display_data"
    },
    {
     "data": {
      "image/png": "[encoded data removed]",
      "text/plain": [
       "<matplotlib.figure.Figure at 0x87d68b0>"
      ]
     },
     "metadata": {},
     "output_type": "display_data"
    },
    {
     "data": {
      "image/png": "[encoded data removed]",
      "text/plain": [
       "<matplotlib.figure.Figure at 0x8846cd0>"
      ]
     },
     "metadata": {},
     "output_type": "display_data"
    }
   ],
   "source": [
    "d.boxplot(column='ADNI_MEM', by='grp')\n",
    "d.boxplot(column='ADNI_EF', by='grp')\n",
    "d.boxplot(column='MEM_change', by='grp')\n",
    "d.boxplot(column='EF_change', by='grp')\n",
    "d.boxplot(column='AGE', by='grp')"
   ]
  },
  {
   "cell_type": "code",
   "execution_count": null,
   "metadata": {},
   "outputs": [],
   "source": [
    "\n",
    "\n"
   ]
  }
 ],
 "metadata": {
  "kernelspec": {
   "display_name": "Python 3",
   "language": "python",
   "name": "python3"
  },
  "language_info": {
   "codemirror_mode": {
    "name": "ipython",
    "version": 3
   },
   "file_extension": ".py",
   "mimetype": "text/x-python",
   "name": "python",
   "nbconvert_exporter": "python",
   "pygments_lexer": "ipython3",
   "version": "3.6.1"
  }
 },
 "nbformat": 4,
 "nbformat_minor": 2
}
