{
 "cells": [
  {
   "cell_type": "code",
   "execution_count": 114,
   "metadata": {
    "collapsed": true
   },
   "outputs": [],
   "source": [
    "import numpy as np\n",
    "import pandas as pd\n",
    "import matplotlib\n",
    "import matplotlib.pyplot as plt\n",
    "import warnings\n",
    "warnings.filterwarnings('ignore')\n",
    "%matplotlib inline"
   ]
  },
  {
   "cell_type": "code",
   "execution_count": 115,
   "metadata": {},
   "outputs": [
    {
     "data": {
      "text/html": [
       "<div>\n",
       "<style>\n",
       "    .dataframe thead tr:only-child th {\n",
       "        text-align: right;\n",
       "    }\n",
       "\n",
       "    .dataframe thead th {\n",
       "        text-align: left;\n",
       "    }\n",
       "\n",
       "    .dataframe tbody tr th {\n",
       "        vertical-align: top;\n",
       "    }\n",
       "</style>\n",
       "<table border=\"1\" class=\"dataframe\">\n",
       "  <thead>\n",
       "    <tr style=\"text-align: right;\">\n",
       "      <th></th>\n",
       "      <th>RID</th>\n",
       "      <th>EXAMDATE_bl</th>\n",
       "      <th>AGE</th>\n",
       "      <th>DX_bl</th>\n",
       "      <th>DX</th>\n",
       "      <th>Month_bl</th>\n",
       "      <th>VISCODE</th>\n",
       "    </tr>\n",
       "  </thead>\n",
       "  <tbody>\n",
       "    <tr>\n",
       "      <th>0</th>\n",
       "      <td>2</td>\n",
       "      <td>2005-09-08</td>\n",
       "      <td>74.3</td>\n",
       "      <td>CN</td>\n",
       "      <td>CN</td>\n",
       "      <td>0.0000</td>\n",
       "      <td>bl</td>\n",
       "    </tr>\n",
       "    <tr>\n",
       "      <th>5</th>\n",
       "      <td>4</td>\n",
       "      <td>2005-11-08</td>\n",
       "      <td>67.5</td>\n",
       "      <td>LMCI</td>\n",
       "      <td>MCI</td>\n",
       "      <td>0.0000</td>\n",
       "      <td>bl</td>\n",
       "    </tr>\n",
       "    <tr>\n",
       "      <th>6</th>\n",
       "      <td>4</td>\n",
       "      <td>2005-11-08</td>\n",
       "      <td>67.5</td>\n",
       "      <td>LMCI</td>\n",
       "      <td>MCI</td>\n",
       "      <td>5.7377</td>\n",
       "      <td>m06</td>\n",
       "    </tr>\n",
       "    <tr>\n",
       "      <th>7</th>\n",
       "      <td>4</td>\n",
       "      <td>2005-11-08</td>\n",
       "      <td>67.5</td>\n",
       "      <td>LMCI</td>\n",
       "      <td>MCI</td>\n",
       "      <td>12.1639</td>\n",
       "      <td>m12</td>\n",
       "    </tr>\n",
       "    <tr>\n",
       "      <th>8</th>\n",
       "      <td>4</td>\n",
       "      <td>2005-11-08</td>\n",
       "      <td>67.5</td>\n",
       "      <td>LMCI</td>\n",
       "      <td>MCI</td>\n",
       "      <td>18.0984</td>\n",
       "      <td>m18</td>\n",
       "    </tr>\n",
       "    <tr>\n",
       "      <th>9</th>\n",
       "      <td>4</td>\n",
       "      <td>2005-11-08</td>\n",
       "      <td>67.5</td>\n",
       "      <td>LMCI</td>\n",
       "      <td>MCI</td>\n",
       "      <td>36.2623</td>\n",
       "      <td>m36</td>\n",
       "    </tr>\n",
       "    <tr>\n",
       "      <th>10</th>\n",
       "      <td>5</td>\n",
       "      <td>2005-09-07</td>\n",
       "      <td>73.7</td>\n",
       "      <td>CN</td>\n",
       "      <td>CN</td>\n",
       "      <td>0.0000</td>\n",
       "      <td>bl</td>\n",
       "    </tr>\n",
       "    <tr>\n",
       "      <th>11</th>\n",
       "      <td>5</td>\n",
       "      <td>2005-09-07</td>\n",
       "      <td>73.7</td>\n",
       "      <td>CN</td>\n",
       "      <td>CN</td>\n",
       "      <td>6.0000</td>\n",
       "      <td>m06</td>\n",
       "    </tr>\n",
       "    <tr>\n",
       "      <th>12</th>\n",
       "      <td>5</td>\n",
       "      <td>2005-09-07</td>\n",
       "      <td>73.7</td>\n",
       "      <td>CN</td>\n",
       "      <td>CN</td>\n",
       "      <td>11.9016</td>\n",
       "      <td>m12</td>\n",
       "    </tr>\n",
       "    <tr>\n",
       "      <th>13</th>\n",
       "      <td>5</td>\n",
       "      <td>2005-09-07</td>\n",
       "      <td>73.7</td>\n",
       "      <td>CN</td>\n",
       "      <td>CN</td>\n",
       "      <td>23.9344</td>\n",
       "      <td>m24</td>\n",
       "    </tr>\n",
       "  </tbody>\n",
       "</table>\n",
       "</div>"
      ],
      "text/plain": [
       "    RID EXAMDATE_bl   AGE DX_bl   DX  Month_bl VISCODE\n",
       "0     2  2005-09-08  74.3    CN   CN    0.0000      bl\n",
       "5     4  2005-11-08  67.5  LMCI  MCI    0.0000      bl\n",
       "6     4  2005-11-08  67.5  LMCI  MCI    5.7377     m06\n",
       "7     4  2005-11-08  67.5  LMCI  MCI   12.1639     m12\n",
       "8     4  2005-11-08  67.5  LMCI  MCI   18.0984     m18\n",
       "9     4  2005-11-08  67.5  LMCI  MCI   36.2623     m36\n",
       "10    5  2005-09-07  73.7    CN   CN    0.0000      bl\n",
       "11    5  2005-09-07  73.7    CN   CN    6.0000     m06\n",
       "12    5  2005-09-07  73.7    CN   CN   11.9016     m12\n",
       "13    5  2005-09-07  73.7    CN   CN   23.9344     m24"
      ]
     },
     "execution_count": 115,
     "metadata": {},
     "output_type": "execute_result"
    }
   ],
   "source": [
    "#Read datafiles\n",
    "adnimerge = pd.read_csv(\"../Data/data/ADNIMERGE.csv\")\n",
    "adnimerge = adnimerge[['RID','EXAMDATE_bl','AGE','DX_bl','DX','Month_bl','VISCODE']]\n",
    "adnimerge['EXAMDATE_bl'] = pd.to_datetime(adnimerge['EXAMDATE_bl'])\n",
    "adnimerge.head()\n",
    "adnimerge = adnimerge[adnimerge.DX_bl != \"AD\"]\n",
    "adnimerge.head(10)\n"
   ]
  },
  {
   "cell_type": "code",
   "execution_count": 116,
   "metadata": {},
   "outputs": [
    {
     "data": {
      "text/plain": [
       "count    355.000000\n",
       "mean      30.265711\n",
       "std       25.956514\n",
       "min        0.000000\n",
       "25%       12.131100\n",
       "50%       23.868900\n",
       "75%       36.672150\n",
       "max      119.869000\n",
       "Name: Month_bl, dtype: float64"
      ]
     },
     "execution_count": 116,
     "metadata": {},
     "output_type": "execute_result"
    },
    {
     "data": {
      "image/png": "[encoded data removed]",
      "text/plain": [
       "<matplotlib.figure.Figure at 0xe61050>"
      ]
     },
     "metadata": {},
     "output_type": "display_data"
    }
   ],
   "source": [
    "#Extracting subjects that converted to Dementia and checking the distribution of the minimum number of months for the\n",
    "# change\n",
    "x = adnimerge.copy()\n",
    "x1 = x[x.DX_bl != x.DX]\n",
    "x2 = x1[x1.DX == \"Dementia\"]\n",
    "p = x2.groupby(\"RID\")['Month_bl'].min()\n",
    "plt.hist(p,bins=100)\n",
    "plt.xlabel('Time in Months')\n",
    "plt.ylabel('Number of Subjects')\n",
    "plt.title('Minimum Number of Months to Convert to AD')\n",
    "p.describe()"
   ]
  },
  {
   "cell_type": "code",
   "execution_count": 117,
   "metadata": {},
   "outputs": [
    {
     "data": {
      "text/plain": [
       "267"
      ]
     },
     "execution_count": 117,
     "metadata": {},
     "output_type": "execute_result"
    }
   ],
   "source": [
    "# Using the 3rd quartile as a cutoff\n",
    "x2.head()\n",
    "x3 = x2[x2.Month_bl <37]\n",
    "x3 = x3.dropna(axis=0, how='any')\n",
    "cases = x3.RID.unique()\n",
    "#Number of cases or subjects that converted to dementia\n",
    "len(cases)\n"
   ]
  },
  {
   "cell_type": "code",
   "execution_count": 118,
   "metadata": {},
   "outputs": [
    {
     "data": {
      "text/plain": [
       "568"
      ]
     },
     "execution_count": 118,
     "metadata": {},
     "output_type": "execute_result"
    }
   ],
   "source": [
    "#Subjects that do not convert to Dementia\n",
    "#Controls need to be followed for at least 37 months\n",
    "x1 = x[x.DX != \"Dementia\"]\n",
    "x1 = x1.dropna(axis=0, how='any')\n",
    "x2 = x1[x1.Month_bl >=37]\n",
    "ctrl = x2.RID.unique()\n",
    "len(ctrl)"
   ]
  },
  {
   "cell_type": "code",
   "execution_count": 119,
   "metadata": {},
   "outputs": [],
   "source": [
    "#Dataframe that contains response variable, RID and date of baseline\n",
    "c1 = adnimerge[adnimerge.RID.isin(cases)]\n",
    "c1 = c1[c1.VISCODE ==\"bl\"]\n",
    "c1 = c1[['RID','EXAMDATE_bl']]\n",
    "c1['Target'] = 'AD'\n",
    "c2 = adnimerge[adnimerge.RID.isin(ctrl)]\n",
    "c2 = c2[c2.VISCODE ==\"bl\"]\n",
    "c2 = c2[['RID','EXAMDATE_bl']]\n",
    "c2['Target'] = 'NoAD'\n",
    "c2.head()\n",
    "x = pd.concat([c1,c2],axis=0)\n",
    "x.shape\n",
    "x1 = x.copy()"
   ]
  },
  {
   "cell_type": "code",
   "execution_count": 120,
   "metadata": {},
   "outputs": [],
   "source": [
    "#Adding adnimerge info to the dataframe\n",
    "adnimerge = pd.read_csv(\"../Data/data/ADNIMERGE.csv\")\n",
    "adnimerge['EXAMDATE_bl'] = pd.to_datetime(adnimerge['EXAMDATE_bl'])\n",
    "adnimerge = adnimerge[adnimerge.VISCODE =='bl']\n",
    "c = adnimerge.columns.tolist()\n",
    "#Removing fields that are not baseline measurements\n",
    "q = ['PTID','VISCODE','SITE','COLPROT','ORIGPROT','EXAMDATE','PTETHCAT','FDG','PIB','AV45','CDRSB','ADAS11','ADAS13',\n",
    "     'MMSE','RAVLT_immediate','RAVLT_learning','RAVLT_forgetting','RAVLT_perc_forgetting','FAQ','MOCA','EcogPtMem',\n",
    "     'EcogPtLang','EcogPtVisspat','EcogPtPlan','EcogPtOrgan','EcogPtDivatt','EcogPtTotal','EcogSPMem','EcogSPLang',\n",
    "     'EcogSPVisspat','EcogSPPlan','EcogSPOrgan','EcogSPDivatt','EcogSPTotal','FLDSTRENG','FSVERSION','Ventricles',\n",
    "     'Hippocampus','WholeBrain','Entorhinal','Fusiform','MidTemp','ICV','DX','update_stamp','Month_bl','Month','M',\n",
    "     'Years_bl',]\n",
    "\n",
    "p = list(set(c)-set(q))\n",
    "adnimerge = adnimerge[p]\n",
    "adnimerge.columns.tolist()\n",
    "\n",
    "x = pd.merge(x,adnimerge,how='inner',on=['RID','EXAMDATE_bl'])\n"
   ]
  },
  {
   "cell_type": "code",
   "execution_count": 121,
   "metadata": {},
   "outputs": [
    {
     "data": {
      "text/plain": [
       "(835, 46)"
      ]
     },
     "execution_count": 121,
     "metadata": {},
     "output_type": "execute_result"
    }
   ],
   "source": [
    "x1 = x.copy()\n",
    "x.shape\n"
   ]
  },
  {
   "cell_type": "code",
   "execution_count": 122,
   "metadata": {},
   "outputs": [
    {
     "data": {
      "text/plain": [
       "(835, 48)"
      ]
     },
     "execution_count": 122,
     "metadata": {},
     "output_type": "execute_result"
    }
   ],
   "source": [
    "#Intergrating UWNPSYCHSUM - composite scores from UPENN\n",
    "mem = pd.read_csv(\"../Data/data/UWNPSYCHSUM_10_27_17.csv\")\n",
    "mem = mem[mem.VISCODE ==\"bl\"]\n",
    "mem = mem[['RID','ADNI_MEM','ADNI_EF']]\n",
    "mem.columns = ['RID','ADNI_MEM_bl','ADNI_EF_bl']\n",
    "x1 = pd.merge(x1,mem,how='left',on='RID')\n",
    "x1.shape\n"
   ]
  },
  {
   "cell_type": "code",
   "execution_count": 123,
   "metadata": {},
   "outputs": [
    {
     "data": {
      "text/plain": [
       "(835, 67)"
      ]
     },
     "execution_count": 123,
     "metadata": {},
     "output_type": "execute_result"
    }
   ],
   "source": [
    "# Integratuing select columns from medical history\n",
    "a1 = pd.read_csv(\"../Data/data/MEDHIST.csv\")\n",
    "a1 = a1[a1.VISCODE =='sc']\n",
    "v = ['RID','MHPSYCH','MH2NEURL','MH3HEAD','MH4CARD','MH5RESP','MH6HEPAT','MH7DERM','MH8MUSCL','MH9ENDO','MH10GAST',\n",
    "     'MH11HEMA','MH12RENA','MH13ALLE','MH14ALCH','MH15DRUG','MH16SMOK','MH17MALI','MH18SURG','MH19OTHR']\n",
    "a1 = a1[v]\n",
    "x1 = pd.merge(x1,a1,how='left',on='RID')\n",
    "x1.shape"
   ]
  },
  {
   "cell_type": "code",
   "execution_count": 124,
   "metadata": {},
   "outputs": [
    {
     "data": {
      "text/plain": [
       "(835, 71)"
      ]
     },
     "execution_count": 124,
     "metadata": {},
     "output_type": "execute_result"
    }
   ],
   "source": [
    "# Integrating history of stroke, hypertension. Stroke may be a confounder for Dementia\n",
    "# Intergrating NP tests scores such as modified Hachinski, Geriatric scale score\n",
    "a1 = pd.read_csv(\"../Data/NPtests/MODHACH.csv\")\n",
    "a1 = a1[a1.VISCODE =='sc']\n",
    "v = ['RID','HMHYPERT','HMSTROKE','HMSCORE']\n",
    "a1 = a1[v]\n",
    "x1 = pd.merge(x1,a1,how='left',on='RID')\n",
    "\n",
    "#GDSCALE score\n",
    "a1 = pd.read_csv(\"../Data/data/GDSCALE.csv\")\n",
    "a1 = a1[a1.VISCODE =='sc']\n",
    "v = ['RID','GDTOTAL']\n",
    "a1 = a1[v]\n",
    "x1 = pd.merge(x1,a1,how='left',on='RID')\n",
    "x1.shape\n"
   ]
  },
  {
   "cell_type": "code",
   "execution_count": 126,
   "metadata": {},
   "outputs": [
    {
     "name": "stdout",
     "output_type": "stream",
     "text": [
      "<class 'pandas.core.frame.DataFrame'>\n",
      "Int64Index: 835 entries, 0 to 834\n",
      "Data columns (total 71 columns):\n",
      "RID                         835 non-null int64\n",
      "EXAMDATE_bl                 835 non-null datetime64[ns]\n",
      "Target                      835 non-null object\n",
      "PTMARRY                     835 non-null object\n",
      "WholeBrain_bl               821 non-null float64\n",
      "EcogPtLang_bl               431 non-null float64\n",
      "Hippocampus_bl              728 non-null float64\n",
      "RAVLT_learning_bl           834 non-null float64\n",
      "FAQ_bl                      834 non-null float64\n",
      "Ventricles_bl               802 non-null float64\n",
      "RAVLT_forgetting_bl         834 non-null float64\n",
      "EcogSPTotal_bl              429 non-null float64\n",
      "EcogSPDivatt_bl             421 non-null float64\n",
      "MOCA_bl                     427 non-null float64\n",
      "RAVLT_perc_forgetting_bl    834 non-null float64\n",
      "CDRSB_bl                    835 non-null float64\n",
      "EcogSPVisspat_bl            425 non-null float64\n",
      "EcogSPMem_bl                430 non-null float64\n",
      "AGE                         835 non-null float64\n",
      "EcogPtMem_bl                431 non-null float64\n",
      "FSVERSION_bl                826 non-null object\n",
      "EcogSPOrgan_bl              410 non-null float64\n",
      "MMSE_bl                     835 non-null int64\n",
      "EcogPtTotal_bl              431 non-null float64\n",
      "ADAS13_bl                   831 non-null float64\n",
      "FLDSTRENG_bl                725 non-null object\n",
      "ADAS11_bl                   834 non-null float64\n",
      "APOE4                       835 non-null float64\n",
      "ICV_bl                      826 non-null float64\n",
      "Entorhinal_bl               729 non-null float64\n",
      "EcogPtOrgan_bl              426 non-null float64\n",
      "AV45_bl                     430 non-null float64\n",
      "PTGENDER                    835 non-null object\n",
      "PTEDUCAT                    835 non-null int64\n",
      "MidTemp_bl                  729 non-null float64\n",
      "DX_bl                       835 non-null object\n",
      "PTRACCAT                    835 non-null object\n",
      "Fusiform_bl                 729 non-null float64\n",
      "RAVLT_immediate_bl          834 non-null float64\n",
      "EcogSPLang_bl               430 non-null float64\n",
      "FDG_bl                      621 non-null float64\n",
      "EcogPtDivatt_bl             430 non-null float64\n",
      "EcogSPPlan_bl               427 non-null float64\n",
      "EcogPtPlan_bl               431 non-null float64\n",
      "EcogPtVisspat_bl            429 non-null float64\n",
      "PIB_bl                      10 non-null float64\n",
      "ADNI_MEM_bl                 669 non-null float64\n",
      "ADNI_EF_bl                  669 non-null float64\n",
      "MHPSYCH                     497 non-null float64\n",
      "MH2NEURL                    497 non-null float64\n",
      "MH3HEAD                     497 non-null float64\n",
      "MH4CARD                     497 non-null float64\n",
      "MH5RESP                     497 non-null float64\n",
      "MH6HEPAT                    497 non-null float64\n",
      "MH7DERM                     497 non-null float64\n",
      "MH8MUSCL                    497 non-null float64\n",
      "MH9ENDO                     497 non-null float64\n",
      "MH10GAST                    497 non-null float64\n",
      "MH11HEMA                    497 non-null float64\n",
      "MH12RENA                    497 non-null float64\n",
      "MH13ALLE                    497 non-null float64\n",
      "MH14ALCH                    497 non-null float64\n",
      "MH15DRUG                    497 non-null float64\n",
      "MH16SMOK                    497 non-null float64\n",
      "MH17MALI                    497 non-null float64\n",
      "MH18SURG                    497 non-null float64\n",
      "MH19OTHR                    497 non-null float64\n",
      "HMHYPERT                    497 non-null float64\n",
      "HMSTROKE                    497 non-null float64\n",
      "HMSCORE                     497 non-null float64\n",
      "GDTOTAL                     497 non-null float64\n",
      "dtypes: datetime64[ns](1), float64(60), int64(3), object(7)\n",
      "memory usage: 446.9+ KB\n"
     ]
    }
   ],
   "source": [
    "x1.info()\n"
   ]
  },
  {
   "cell_type": "code",
   "execution_count": null,
   "metadata": {
    "collapsed": true
   },
   "outputs": [],
   "source": []
  }
 ],
 "metadata": {
  "kernelspec": {
   "display_name": "Python 3",
   "language": "python",
   "name": "python3"
  },
  "language_info": {
   "codemirror_mode": {
    "name": "ipython",
    "version": 3
   },
   "file_extension": ".py",
   "mimetype": "text/x-python",
   "name": "python",
   "nbconvert_exporter": "python",
   "pygments_lexer": "ipython3",
   "version": "3.6.1"
  }
 },
 "nbformat": 4,
 "nbformat_minor": 2
}
