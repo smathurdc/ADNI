{
 "cells": [
  {
   "cell_type": "code",
   "execution_count": 11,
   "metadata": {
    "collapsed": true
   },
   "outputs": [],
   "source": [
    "import numpy as np\n",
    "import pandas as pd\n",
    "from collections import Counter\n",
    "from sklearn.linear_model import LogisticRegression\n",
    "from sklearn.linear_model import LogisticRegressionCV\n",
    "from sklearn.preprocessing import PolynomialFeatures\n",
    "from sklearn.linear_model import LassoCV\n",
    "from sklearn.decomposition import PCA\n",
    "import sklearn.metrics as metrics\n",
    "from sklearn.discriminant_analysis import LinearDiscriminantAnalysis\n",
    "from sklearn.discriminant_analysis import QuadraticDiscriminantAnalysis\n",
    "from sklearn.linear_model import LinearRegression\n",
    "from sklearn.neighbors import KNeighborsClassifier\n",
    "\n",
    "import matplotlib.pyplot as plt\n",
    "import warnings\n",
    "warnings.filterwarnings('ignore')\n",
    "%matplotlib inline"
   ]
  },
  {
   "cell_type": "code",
   "execution_count": 12,
   "metadata": {},
   "outputs": [
    {
     "data": {
      "text/html": [
       "<div>\n",
       "<style>\n",
       "    .dataframe thead tr:only-child th {\n",
       "        text-align: right;\n",
       "    }\n",
       "\n",
       "    .dataframe thead th {\n",
       "        text-align: left;\n",
       "    }\n",
       "\n",
       "    .dataframe tbody tr th {\n",
       "        vertical-align: top;\n",
       "    }\n",
       "</style>\n",
       "<table border=\"1\" class=\"dataframe\">\n",
       "  <thead>\n",
       "    <tr style=\"text-align: right;\">\n",
       "      <th></th>\n",
       "      <th>RID</th>\n",
       "      <th>EXAMDATE</th>\n",
       "      <th>AGE</th>\n",
       "      <th>DX_bl</th>\n",
       "      <th>DX</th>\n",
       "      <th>Month_bl</th>\n",
       "      <th>VISCODE</th>\n",
       "      <th>Month</th>\n",
       "    </tr>\n",
       "  </thead>\n",
       "  <tbody>\n",
       "    <tr>\n",
       "      <th>0</th>\n",
       "      <td>2</td>\n",
       "      <td>2005-09-08</td>\n",
       "      <td>74.3</td>\n",
       "      <td>CN</td>\n",
       "      <td>CN</td>\n",
       "      <td>0.0000</td>\n",
       "      <td>bl</td>\n",
       "      <td>0</td>\n",
       "    </tr>\n",
       "    <tr>\n",
       "      <th>5</th>\n",
       "      <td>4</td>\n",
       "      <td>2005-11-08</td>\n",
       "      <td>67.5</td>\n",
       "      <td>LMCI</td>\n",
       "      <td>MCI</td>\n",
       "      <td>0.0000</td>\n",
       "      <td>bl</td>\n",
       "      <td>0</td>\n",
       "    </tr>\n",
       "    <tr>\n",
       "      <th>6</th>\n",
       "      <td>4</td>\n",
       "      <td>2006-05-02</td>\n",
       "      <td>67.5</td>\n",
       "      <td>LMCI</td>\n",
       "      <td>MCI</td>\n",
       "      <td>5.7377</td>\n",
       "      <td>m06</td>\n",
       "      <td>6</td>\n",
       "    </tr>\n",
       "    <tr>\n",
       "      <th>7</th>\n",
       "      <td>4</td>\n",
       "      <td>2006-11-14</td>\n",
       "      <td>67.5</td>\n",
       "      <td>LMCI</td>\n",
       "      <td>MCI</td>\n",
       "      <td>12.1639</td>\n",
       "      <td>m12</td>\n",
       "      <td>12</td>\n",
       "    </tr>\n",
       "    <tr>\n",
       "      <th>8</th>\n",
       "      <td>4</td>\n",
       "      <td>2007-05-14</td>\n",
       "      <td>67.5</td>\n",
       "      <td>LMCI</td>\n",
       "      <td>MCI</td>\n",
       "      <td>18.0984</td>\n",
       "      <td>m18</td>\n",
       "      <td>18</td>\n",
       "    </tr>\n",
       "  </tbody>\n",
       "</table>\n",
       "</div>"
      ],
      "text/plain": [
       "   RID   EXAMDATE   AGE DX_bl   DX  Month_bl VISCODE  Month\n",
       "0    2 2005-09-08  74.3    CN   CN    0.0000      bl      0\n",
       "5    4 2005-11-08  67.5  LMCI  MCI    0.0000      bl      0\n",
       "6    4 2006-05-02  67.5  LMCI  MCI    5.7377     m06      6\n",
       "7    4 2006-11-14  67.5  LMCI  MCI   12.1639     m12     12\n",
       "8    4 2007-05-14  67.5  LMCI  MCI   18.0984     m18     18"
      ]
     },
     "execution_count": 12,
     "metadata": {},
     "output_type": "execute_result"
    }
   ],
   "source": [
    "#Read datafiles\n",
    "adnimerge = pd.read_csv(\"../Data/data/ADNIMERGE.csv\")\n",
    "adnimerge = adnimerge[['RID','EXAMDATE','AGE','DX_bl','DX','Month_bl','VISCODE','Month']]\n",
    "adnimerge['EXAMDATE'] = pd.to_datetime(adnimerge['EXAMDATE'])\n",
    "#Removing baseline diagnosis = AD\n",
    "adnimerge = adnimerge[adnimerge.DX_bl !='AD']\n",
    "adnimerge.head()"
   ]
  },
  {
   "cell_type": "code",
   "execution_count": 13,
   "metadata": {},
   "outputs": [
    {
     "name": "stdout",
     "output_type": "stream",
     "text": [
      "(1433,)\n",
      "(1433, 2)\n"
     ]
    },
    {
     "data": {
      "text/plain": [
       "Counter({'CN': 508, 'Dementia': 343, 'MCI': 582})"
      ]
     },
     "execution_count": 13,
     "metadata": {},
     "output_type": "execute_result"
    }
   ],
   "source": [
    "p = adnimerge[['RID','Month','DX']]\n",
    "p.shape\n",
    "p = p.dropna(axis=0, how='any')\n",
    "p.shape\n",
    "p1 = p.groupby(\"RID\")['Month'].max()\n",
    "print(p1.shape)\n",
    "q = pd.DataFrame({'RID':p1.index,'Month':p1})\n",
    "#print(p1)\n",
    "\n",
    "k = pd.read_csv(\"../Data/data/ADNIMERGE.csv\")\n",
    "k = k[['RID','Month','DX']]\n",
    "k = k.dropna(axis=0, how='any')\n",
    "k = k.drop_duplicates()\n",
    "df = pd.merge(q,k,how='inner',on=['RID','Month'])\n",
    "del df['Month']\n",
    "print(df.shape)\n",
    "df.head()\n",
    "Counter(df['DX'])"
   ]
  },
  {
   "cell_type": "code",
   "execution_count": 14,
   "metadata": {},
   "outputs": [
    {
     "data": {
      "text/plain": [
       "(1433, 2)"
      ]
     },
     "execution_count": 14,
     "metadata": {},
     "output_type": "execute_result"
    }
   ],
   "source": [
    "x1 = df.copy()\n",
    "x1.shape"
   ]
  },
  {
   "cell_type": "code",
   "execution_count": 15,
   "metadata": {},
   "outputs": [
    {
     "name": "stdout",
     "output_type": "stream",
     "text": [
      "(1433, 24)\n",
      "(1121, 24)\n"
     ]
    }
   ],
   "source": [
    "adnimerge = pd.read_csv(\"../Data/data/ADNIMERGE.csv\")\n",
    "adnimerge = adnimerge[adnimerge.VISCODE =='bl']\n",
    "c = adnimerge.columns.tolist()\n",
    "#Removing fields that are not baseline measurements\n",
    "q = ['PTID','VISCODE','SITE','COLPROT','ORIGPROT','EXAMDATE_bl','PTETHCAT','FDG','PIB','AV45','CDRSB','ADAS11','ADAS13',\n",
    "     'MMSE','RAVLT_immediate','RAVLT_learning','RAVLT_forgetting','RAVLT_perc_forgetting','FAQ','MOCA','EcogPtMem',\n",
    "     'EcogPtLang','EcogPtVisspat','EcogPtPlan','EcogPtOrgan','EcogPtDivatt','EcogPtTotal','EcogSPMem','EcogSPLang',\n",
    "     'EcogSPVisspat','EcogSPPlan','EcogSPOrgan','EcogSPDivatt','EcogSPTotal','FLDSTRENG','FSVERSION','Ventricles',\n",
    "     'Hippocampus','WholeBrain','Entorhinal','Fusiform','MidTemp','ICV','DX','update_stamp','Month_bl','Month','M',\n",
    "     'Years_bl','EXAMDATE','DX_bl','FLDSTRENG_bl','FSVERSION_bl',\n",
    "     # This has very high missingness\n",
    "     'PIB_bl',\n",
    "     #Turns out these are measured for few subjects\n",
    "    'EcogPtMem_bl','EcogSPPlan_bl','EcogPtPlan_bl','EcogPtDivatt_bl','MOCA_bl','EcogPtVisspat_bl','EcogSPMem_bl',\n",
    "    'EcogSPVisspat_bl','EcogSPOrgan_bl','EcogPtTotal_bl','EcogSPLang_bl','AV45_bl','EcogSPTotal_bl','EcogPtOrgan_bl'\n",
    "    'EcogSPDivatt_bl','EcogPtOrgan_bl','EcogSPDivatt_bl','EcogPtLang_bl','FDG_bl','PIB_bl'\n",
    "    ]\n",
    "\n",
    "p = list(set(c)-set(q))\n",
    "adnimerge = adnimerge[p]\n",
    "x1 = pd.merge(x1,adnimerge,how='inner',on=['RID'])\n",
    "print(x1.shape)\n",
    "x = x1.dropna(axis=0, how='any')\n",
    "print(x.shape)\n",
    "#x1.info()"
   ]
  },
  {
   "cell_type": "code",
   "execution_count": 17,
   "metadata": {},
   "outputs": [],
   "source": [
    "qqq = p.copy()"
   ]
  },
  {
   "cell_type": "code",
   "execution_count": 328,
   "metadata": {},
   "outputs": [
    {
     "name": "stdout",
     "output_type": "stream",
     "text": [
      "(871, 26)\n"
     ]
    }
   ],
   "source": [
    "#Intergrating UWNPSYCHSUM - composite scores from UPENN\n",
    "mem = pd.read_csv(\"../Data/data/UWNPSYCHSUM_10_27_17.csv\")\n",
    "mem = mem[mem.VISCODE ==\"bl\"]\n",
    "mem = mem[['RID','ADNI_MEM','ADNI_EF']]\n",
    "mem.columns = ['RID','ADNI_MEM_bl','ADNI_EF_bl']\n",
    "x1 = pd.merge(x1,mem,how='left',on='RID')\n",
    "x1.shape\n",
    "x = x1.dropna(axis=0, how='any')\n",
    "print(x.shape)\n"
   ]
  },
  {
   "cell_type": "code",
   "execution_count": 329,
   "metadata": {},
   "outputs": [
    {
     "name": "stdout",
     "output_type": "stream",
     "text": [
      "(629, 45)\n"
     ]
    }
   ],
   "source": [
    "# Integratuing select columns from medical history\n",
    "a1 = pd.read_csv(\"../Data/data/MEDHIST.csv\")\n",
    "a1 = a1[a1.VISCODE =='sc']\n",
    "v = ['RID','MHPSYCH','MH2NEURL','MH3HEAD','MH4CARD','MH5RESP','MH6HEPAT','MH7DERM','MH8MUSCL','MH9ENDO','MH10GAST',\n",
    "     'MH11HEMA','MH12RENA','MH13ALLE','MH14ALCH','MH15DRUG','MH16SMOK','MH17MALI','MH18SURG','MH19OTHR']\n",
    "a1 = a1[v]\n",
    "x1 = pd.merge(x1,a1,how='left',on='RID')\n",
    "x1.shape\n",
    "x = x1.dropna(axis=0, how='any')\n",
    "print(x.shape)"
   ]
  },
  {
   "cell_type": "code",
   "execution_count": 330,
   "metadata": {},
   "outputs": [
    {
     "name": "stdout",
     "output_type": "stream",
     "text": [
      "(629, 49)\n"
     ]
    }
   ],
   "source": [
    "# Integrating history of stroke, hypertension. Stroke may be a confounder for Dementia\n",
    "# Intergrating NP tests scores such as modified Hachinski, Geriatric scale score\n",
    "a1 = pd.read_csv(\"../Data/NPtests/MODHACH.csv\")\n",
    "a1 = a1[a1.VISCODE =='sc']\n",
    "v = ['RID','HMHYPERT','HMSTROKE','HMSCORE']\n",
    "a1 = a1[v]\n",
    "x1 = pd.merge(x1,a1,how='left',on='RID')\n",
    "\n",
    "#GDSCALE score\n",
    "a1 = pd.read_csv(\"../Data/data/GDSCALE.csv\")\n",
    "a1 = a1[a1.VISCODE =='sc']\n",
    "v = ['RID','GDTOTAL']\n",
    "a1 = a1[v]\n",
    "x1 = pd.merge(x1,a1,how='left',on='RID')\n",
    "x1.shape\n",
    "\n",
    "x = x1.dropna(axis=0, how='any')\n",
    "print(x.shape)"
   ]
  },
  {
   "cell_type": "code",
   "execution_count": 331,
   "metadata": {},
   "outputs": [
    {
     "data": {
      "text/plain": [
       "count    1433.000000\n",
       "mean        0.244813\n",
       "std         0.248346\n",
       "min         0.000000\n",
       "25%         0.000000\n",
       "50%         0.081633\n",
       "75%         0.510204\n",
       "max         0.653061\n",
       "Name: missing, dtype: float64"
      ]
     },
     "execution_count": 331,
     "metadata": {},
     "output_type": "execute_result"
    }
   ],
   "source": [
    "#Calculating the number of missing values per subject\n",
    "k = x1.isnull().sum(axis=1).tolist()\n",
    "x1['missing'] = np.array(k)/len(x1.columns.tolist())\n",
    "x1['missing'].describe()"
   ]
  },
  {
   "cell_type": "code",
   "execution_count": 332,
   "metadata": {
    "scrolled": true
   },
   "outputs": [
    {
     "name": "stdout",
     "output_type": "stream",
     "text": [
      "<class 'pandas.core.frame.DataFrame'>\n",
      "Int64Index: 629 entries, 0 to 759\n",
      "Data columns (total 50 columns):\n",
      "RID                         629 non-null int64\n",
      "DX                          629 non-null object\n",
      "PTGENDER                    629 non-null object\n",
      "RAVLT_perc_forgetting_bl    629 non-null float64\n",
      "Ventricles_bl               629 non-null float64\n",
      "RAVLT_learning_bl           629 non-null float64\n",
      "MMSE_bl                     629 non-null int64\n",
      "APOE4                       629 non-null float64\n",
      "RAVLT_immediate_bl          629 non-null float64\n",
      "PTEDUCAT                    629 non-null int64\n",
      "MidTemp_bl                  629 non-null float64\n",
      "ADAS11_bl                   629 non-null float64\n",
      "FAQ_bl                      629 non-null float64\n",
      "ADAS13_bl                   629 non-null float64\n",
      "AGE                         629 non-null float64\n",
      "RAVLT_forgetting_bl         629 non-null float64\n",
      "Hippocampus_bl              629 non-null float64\n",
      "ICV_bl                      629 non-null float64\n",
      "Entorhinal_bl               629 non-null float64\n",
      "WholeBrain_bl               629 non-null float64\n",
      "PTMARRY                     629 non-null object\n",
      "Fusiform_bl                 629 non-null float64\n",
      "PTRACCAT                    629 non-null object\n",
      "CDRSB_bl                    629 non-null float64\n",
      "ADNI_MEM_bl                 629 non-null float64\n",
      "ADNI_EF_bl                  629 non-null float64\n",
      "MHPSYCH                     629 non-null float64\n",
      "MH2NEURL                    629 non-null float64\n",
      "MH3HEAD                     629 non-null float64\n",
      "MH4CARD                     629 non-null float64\n",
      "MH5RESP                     629 non-null float64\n",
      "MH6HEPAT                    629 non-null float64\n",
      "MH7DERM                     629 non-null float64\n",
      "MH8MUSCL                    629 non-null float64\n",
      "MH9ENDO                     629 non-null float64\n",
      "MH10GAST                    629 non-null float64\n",
      "MH11HEMA                    629 non-null float64\n",
      "MH12RENA                    629 non-null float64\n",
      "MH13ALLE                    629 non-null float64\n",
      "MH14ALCH                    629 non-null float64\n",
      "MH15DRUG                    629 non-null float64\n",
      "MH16SMOK                    629 non-null float64\n",
      "MH17MALI                    629 non-null float64\n",
      "MH18SURG                    629 non-null float64\n",
      "MH19OTHR                    629 non-null float64\n",
      "HMHYPERT                    629 non-null float64\n",
      "HMSTROKE                    629 non-null float64\n",
      "HMSCORE                     629 non-null float64\n",
      "GDTOTAL                     629 non-null float64\n",
      "missing                     629 non-null float64\n",
      "dtypes: float64(43), int64(3), object(4)\n",
      "memory usage: 240.8+ KB\n"
     ]
    }
   ],
   "source": [
    "#Using subjects that have all entries. Played arounf with 0.08 cutoff, but some brain scans missing for some subjects\n",
    "x2 = x1[x1.missing < 0.0001]\n",
    "x2.info()"
   ]
  },
  {
   "cell_type": "code",
   "execution_count": 333,
   "metadata": {},
   "outputs": [
    {
     "name": "stdout",
     "output_type": "stream",
     "text": [
      "Counter({'MCI': 261, 'Dementia': 196, 'CN': 172})\n"
     ]
    },
    {
     "data": {
      "text/html": [
       "<div>\n",
       "<style>\n",
       "    .dataframe thead tr:only-child th {\n",
       "        text-align: right;\n",
       "    }\n",
       "\n",
       "    .dataframe thead th {\n",
       "        text-align: left;\n",
       "    }\n",
       "\n",
       "    .dataframe tbody tr th {\n",
       "        vertical-align: top;\n",
       "    }\n",
       "</style>\n",
       "<table border=\"1\" class=\"dataframe\">\n",
       "  <thead>\n",
       "    <tr style=\"text-align: right;\">\n",
       "      <th></th>\n",
       "      <th>RID</th>\n",
       "      <th>DX</th>\n",
       "      <th>PTGENDER</th>\n",
       "      <th>RAVLT_perc_forgetting_bl</th>\n",
       "      <th>Ventricles_bl</th>\n",
       "      <th>RAVLT_learning_bl</th>\n",
       "      <th>MMSE_bl</th>\n",
       "      <th>APOE4</th>\n",
       "      <th>RAVLT_immediate_bl</th>\n",
       "      <th>PTEDUCAT</th>\n",
       "      <th>...</th>\n",
       "      <th>MH15DRUG</th>\n",
       "      <th>MH16SMOK</th>\n",
       "      <th>MH17MALI</th>\n",
       "      <th>MH18SURG</th>\n",
       "      <th>MH19OTHR</th>\n",
       "      <th>HMHYPERT</th>\n",
       "      <th>HMSTROKE</th>\n",
       "      <th>HMSCORE</th>\n",
       "      <th>GDTOTAL</th>\n",
       "      <th>missing</th>\n",
       "    </tr>\n",
       "  </thead>\n",
       "  <tbody>\n",
       "    <tr>\n",
       "      <th>0</th>\n",
       "      <td>2</td>\n",
       "      <td>CN</td>\n",
       "      <td>Male</td>\n",
       "      <td>54.5455</td>\n",
       "      <td>118233.0</td>\n",
       "      <td>4.0</td>\n",
       "      <td>28</td>\n",
       "      <td>0.0</td>\n",
       "      <td>44.0</td>\n",
       "      <td>16</td>\n",
       "      <td>...</td>\n",
       "      <td>0.0</td>\n",
       "      <td>0.0</td>\n",
       "      <td>0.0</td>\n",
       "      <td>0.0</td>\n",
       "      <td>0.0</td>\n",
       "      <td>0.0</td>\n",
       "      <td>0.0</td>\n",
       "      <td>0.0</td>\n",
       "      <td>1.0</td>\n",
       "      <td>0.0</td>\n",
       "    </tr>\n",
       "    <tr>\n",
       "      <th>1</th>\n",
       "      <td>4</td>\n",
       "      <td>MCI</td>\n",
       "      <td>Male</td>\n",
       "      <td>36.3636</td>\n",
       "      <td>39605.0</td>\n",
       "      <td>7.0</td>\n",
       "      <td>27</td>\n",
       "      <td>0.0</td>\n",
       "      <td>37.0</td>\n",
       "      <td>10</td>\n",
       "      <td>...</td>\n",
       "      <td>0.0</td>\n",
       "      <td>1.0</td>\n",
       "      <td>0.0</td>\n",
       "      <td>1.0</td>\n",
       "      <td>0.0</td>\n",
       "      <td>1.0</td>\n",
       "      <td>0.0</td>\n",
       "      <td>1.0</td>\n",
       "      <td>3.0</td>\n",
       "      <td>0.0</td>\n",
       "    </tr>\n",
       "    <tr>\n",
       "      <th>2</th>\n",
       "      <td>5</td>\n",
       "      <td>CN</td>\n",
       "      <td>Male</td>\n",
       "      <td>44.4444</td>\n",
       "      <td>34062.0</td>\n",
       "      <td>4.0</td>\n",
       "      <td>29</td>\n",
       "      <td>0.0</td>\n",
       "      <td>37.0</td>\n",
       "      <td>16</td>\n",
       "      <td>...</td>\n",
       "      <td>0.0</td>\n",
       "      <td>1.0</td>\n",
       "      <td>0.0</td>\n",
       "      <td>1.0</td>\n",
       "      <td>0.0</td>\n",
       "      <td>0.0</td>\n",
       "      <td>0.0</td>\n",
       "      <td>0.0</td>\n",
       "      <td>0.0</td>\n",
       "      <td>0.0</td>\n",
       "    </tr>\n",
       "    <tr>\n",
       "      <th>3</th>\n",
       "      <td>6</td>\n",
       "      <td>MCI</td>\n",
       "      <td>Female</td>\n",
       "      <td>83.3333</td>\n",
       "      <td>39826.0</td>\n",
       "      <td>1.0</td>\n",
       "      <td>25</td>\n",
       "      <td>0.0</td>\n",
       "      <td>30.0</td>\n",
       "      <td>13</td>\n",
       "      <td>...</td>\n",
       "      <td>0.0</td>\n",
       "      <td>0.0</td>\n",
       "      <td>0.0</td>\n",
       "      <td>1.0</td>\n",
       "      <td>0.0</td>\n",
       "      <td>0.0</td>\n",
       "      <td>0.0</td>\n",
       "      <td>0.0</td>\n",
       "      <td>0.0</td>\n",
       "      <td>0.0</td>\n",
       "    </tr>\n",
       "    <tr>\n",
       "      <th>4</th>\n",
       "      <td>8</td>\n",
       "      <td>MCI</td>\n",
       "      <td>Female</td>\n",
       "      <td>25.0000</td>\n",
       "      <td>18757.0</td>\n",
       "      <td>7.0</td>\n",
       "      <td>28</td>\n",
       "      <td>0.0</td>\n",
       "      <td>51.0</td>\n",
       "      <td>18</td>\n",
       "      <td>...</td>\n",
       "      <td>0.0</td>\n",
       "      <td>1.0</td>\n",
       "      <td>0.0</td>\n",
       "      <td>1.0</td>\n",
       "      <td>0.0</td>\n",
       "      <td>0.0</td>\n",
       "      <td>0.0</td>\n",
       "      <td>0.0</td>\n",
       "      <td>0.0</td>\n",
       "      <td>0.0</td>\n",
       "    </tr>\n",
       "  </tbody>\n",
       "</table>\n",
       "<p>5 rows × 50 columns</p>\n",
       "</div>"
      ],
      "text/plain": [
       "   RID   DX PTGENDER  RAVLT_perc_forgetting_bl  Ventricles_bl  \\\n",
       "0    2   CN     Male                   54.5455       118233.0   \n",
       "1    4  MCI     Male                   36.3636        39605.0   \n",
       "2    5   CN     Male                   44.4444        34062.0   \n",
       "3    6  MCI   Female                   83.3333        39826.0   \n",
       "4    8  MCI   Female                   25.0000        18757.0   \n",
       "\n",
       "   RAVLT_learning_bl  MMSE_bl  APOE4  RAVLT_immediate_bl  PTEDUCAT   ...     \\\n",
       "0                4.0       28    0.0                44.0        16   ...      \n",
       "1                7.0       27    0.0                37.0        10   ...      \n",
       "2                4.0       29    0.0                37.0        16   ...      \n",
       "3                1.0       25    0.0                30.0        13   ...      \n",
       "4                7.0       28    0.0                51.0        18   ...      \n",
       "\n",
       "   MH15DRUG  MH16SMOK  MH17MALI  MH18SURG  MH19OTHR  HMHYPERT  HMSTROKE  \\\n",
       "0       0.0       0.0       0.0       0.0       0.0       0.0       0.0   \n",
       "1       0.0       1.0       0.0       1.0       0.0       1.0       0.0   \n",
       "2       0.0       1.0       0.0       1.0       0.0       0.0       0.0   \n",
       "3       0.0       0.0       0.0       1.0       0.0       0.0       0.0   \n",
       "4       0.0       1.0       0.0       1.0       0.0       0.0       0.0   \n",
       "\n",
       "   HMSCORE  GDTOTAL  missing  \n",
       "0      0.0      1.0      0.0  \n",
       "1      1.0      3.0      0.0  \n",
       "2      0.0      0.0      0.0  \n",
       "3      0.0      0.0      0.0  \n",
       "4      0.0      0.0      0.0  \n",
       "\n",
       "[5 rows x 50 columns]"
      ]
     },
     "execution_count": 333,
     "metadata": {},
     "output_type": "execute_result"
    }
   ],
   "source": [
    "print(Counter(x2['DX']))\n",
    "x2.head()"
   ]
  },
  {
   "cell_type": "code",
   "execution_count": 334,
   "metadata": {},
   "outputs": [
    {
     "data": {
      "text/plain": [
       "RID                           int64\n",
       "DX                           object\n",
       "PTGENDER                     object\n",
       "RAVLT_perc_forgetting_bl    float64\n",
       "Ventricles_bl               float64\n",
       "RAVLT_learning_bl           float64\n",
       "MMSE_bl                       int64\n",
       "APOE4                       float64\n",
       "RAVLT_immediate_bl          float64\n",
       "PTEDUCAT                      int64\n",
       "MidTemp_bl                  float64\n",
       "ADAS11_bl                   float64\n",
       "FAQ_bl                      float64\n",
       "ADAS13_bl                   float64\n",
       "AGE                         float64\n",
       "RAVLT_forgetting_bl         float64\n",
       "Hippocampus_bl              float64\n",
       "ICV_bl                      float64\n",
       "Entorhinal_bl               float64\n",
       "WholeBrain_bl               float64\n",
       "PTMARRY                      object\n",
       "Fusiform_bl                 float64\n",
       "PTRACCAT                     object\n",
       "CDRSB_bl                    float64\n",
       "ADNI_MEM_bl                 float64\n",
       "ADNI_EF_bl                  float64\n",
       "MHPSYCH                     float64\n",
       "MH2NEURL                    float64\n",
       "MH3HEAD                     float64\n",
       "MH4CARD                     float64\n",
       "MH5RESP                     float64\n",
       "MH6HEPAT                    float64\n",
       "MH7DERM                     float64\n",
       "MH8MUSCL                    float64\n",
       "MH9ENDO                     float64\n",
       "MH10GAST                    float64\n",
       "MH11HEMA                    float64\n",
       "MH12RENA                    float64\n",
       "MH13ALLE                    float64\n",
       "MH14ALCH                    float64\n",
       "MH15DRUG                    float64\n",
       "MH16SMOK                    float64\n",
       "MH17MALI                    float64\n",
       "MH18SURG                    float64\n",
       "MH19OTHR                    float64\n",
       "HMHYPERT                    float64\n",
       "HMSTROKE                    float64\n",
       "HMSCORE                     float64\n",
       "GDTOTAL                     float64\n",
       "missing                     float64\n",
       "dtype: object"
      ]
     },
     "execution_count": 334,
     "metadata": {},
     "output_type": "execute_result"
    }
   ],
   "source": [
    "x2.dtypes"
   ]
  },
  {
   "cell_type": "code",
   "execution_count": 335,
   "metadata": {},
   "outputs": [
    {
     "data": {
      "text/html": [
       "<div>\n",
       "<style>\n",
       "    .dataframe thead tr:only-child th {\n",
       "        text-align: right;\n",
       "    }\n",
       "\n",
       "    .dataframe thead th {\n",
       "        text-align: left;\n",
       "    }\n",
       "\n",
       "    .dataframe tbody tr th {\n",
       "        vertical-align: top;\n",
       "    }\n",
       "</style>\n",
       "<table border=\"1\" class=\"dataframe\">\n",
       "  <thead>\n",
       "    <tr style=\"text-align: right;\">\n",
       "      <th></th>\n",
       "      <th>RID</th>\n",
       "      <th>DX</th>\n",
       "      <th>PTGENDER</th>\n",
       "      <th>RAVLT_perc_forgetting_bl</th>\n",
       "      <th>Ventricles_bl</th>\n",
       "      <th>RAVLT_learning_bl</th>\n",
       "      <th>MMSE_bl</th>\n",
       "      <th>APOE4</th>\n",
       "      <th>RAVLT_immediate_bl</th>\n",
       "      <th>PTEDUCAT</th>\n",
       "      <th>...</th>\n",
       "      <th>MH15DRUG</th>\n",
       "      <th>MH16SMOK</th>\n",
       "      <th>MH17MALI</th>\n",
       "      <th>MH18SURG</th>\n",
       "      <th>MH19OTHR</th>\n",
       "      <th>HMHYPERT</th>\n",
       "      <th>HMSTROKE</th>\n",
       "      <th>HMSCORE</th>\n",
       "      <th>GDTOTAL</th>\n",
       "      <th>grp</th>\n",
       "    </tr>\n",
       "  </thead>\n",
       "  <tbody>\n",
       "    <tr>\n",
       "      <th>0</th>\n",
       "      <td>2</td>\n",
       "      <td>CN</td>\n",
       "      <td>Male</td>\n",
       "      <td>54.5455</td>\n",
       "      <td>118233.0</td>\n",
       "      <td>4.0</td>\n",
       "      <td>28</td>\n",
       "      <td>0.0</td>\n",
       "      <td>44.0</td>\n",
       "      <td>16</td>\n",
       "      <td>...</td>\n",
       "      <td>0.0</td>\n",
       "      <td>0.0</td>\n",
       "      <td>0.0</td>\n",
       "      <td>0.0</td>\n",
       "      <td>0.0</td>\n",
       "      <td>0.0</td>\n",
       "      <td>0.0</td>\n",
       "      <td>0.0</td>\n",
       "      <td>1.0</td>\n",
       "      <td>0</td>\n",
       "    </tr>\n",
       "    <tr>\n",
       "      <th>1</th>\n",
       "      <td>4</td>\n",
       "      <td>MCI</td>\n",
       "      <td>Male</td>\n",
       "      <td>36.3636</td>\n",
       "      <td>39605.0</td>\n",
       "      <td>7.0</td>\n",
       "      <td>27</td>\n",
       "      <td>0.0</td>\n",
       "      <td>37.0</td>\n",
       "      <td>10</td>\n",
       "      <td>...</td>\n",
       "      <td>0.0</td>\n",
       "      <td>1.0</td>\n",
       "      <td>0.0</td>\n",
       "      <td>1.0</td>\n",
       "      <td>0.0</td>\n",
       "      <td>1.0</td>\n",
       "      <td>0.0</td>\n",
       "      <td>1.0</td>\n",
       "      <td>3.0</td>\n",
       "      <td>0</td>\n",
       "    </tr>\n",
       "    <tr>\n",
       "      <th>2</th>\n",
       "      <td>5</td>\n",
       "      <td>CN</td>\n",
       "      <td>Male</td>\n",
       "      <td>44.4444</td>\n",
       "      <td>34062.0</td>\n",
       "      <td>4.0</td>\n",
       "      <td>29</td>\n",
       "      <td>0.0</td>\n",
       "      <td>37.0</td>\n",
       "      <td>16</td>\n",
       "      <td>...</td>\n",
       "      <td>0.0</td>\n",
       "      <td>1.0</td>\n",
       "      <td>0.0</td>\n",
       "      <td>1.0</td>\n",
       "      <td>0.0</td>\n",
       "      <td>0.0</td>\n",
       "      <td>0.0</td>\n",
       "      <td>0.0</td>\n",
       "      <td>0.0</td>\n",
       "      <td>0</td>\n",
       "    </tr>\n",
       "    <tr>\n",
       "      <th>3</th>\n",
       "      <td>6</td>\n",
       "      <td>MCI</td>\n",
       "      <td>Female</td>\n",
       "      <td>83.3333</td>\n",
       "      <td>39826.0</td>\n",
       "      <td>1.0</td>\n",
       "      <td>25</td>\n",
       "      <td>0.0</td>\n",
       "      <td>30.0</td>\n",
       "      <td>13</td>\n",
       "      <td>...</td>\n",
       "      <td>0.0</td>\n",
       "      <td>0.0</td>\n",
       "      <td>0.0</td>\n",
       "      <td>1.0</td>\n",
       "      <td>0.0</td>\n",
       "      <td>0.0</td>\n",
       "      <td>0.0</td>\n",
       "      <td>0.0</td>\n",
       "      <td>0.0</td>\n",
       "      <td>0</td>\n",
       "    </tr>\n",
       "    <tr>\n",
       "      <th>4</th>\n",
       "      <td>8</td>\n",
       "      <td>MCI</td>\n",
       "      <td>Female</td>\n",
       "      <td>25.0000</td>\n",
       "      <td>18757.0</td>\n",
       "      <td>7.0</td>\n",
       "      <td>28</td>\n",
       "      <td>0.0</td>\n",
       "      <td>51.0</td>\n",
       "      <td>18</td>\n",
       "      <td>...</td>\n",
       "      <td>0.0</td>\n",
       "      <td>1.0</td>\n",
       "      <td>0.0</td>\n",
       "      <td>1.0</td>\n",
       "      <td>0.0</td>\n",
       "      <td>0.0</td>\n",
       "      <td>0.0</td>\n",
       "      <td>0.0</td>\n",
       "      <td>0.0</td>\n",
       "      <td>0</td>\n",
       "    </tr>\n",
       "  </tbody>\n",
       "</table>\n",
       "<p>5 rows × 50 columns</p>\n",
       "</div>"
      ],
      "text/plain": [
       "   RID   DX PTGENDER  RAVLT_perc_forgetting_bl  Ventricles_bl  \\\n",
       "0    2   CN     Male                   54.5455       118233.0   \n",
       "1    4  MCI     Male                   36.3636        39605.0   \n",
       "2    5   CN     Male                   44.4444        34062.0   \n",
       "3    6  MCI   Female                   83.3333        39826.0   \n",
       "4    8  MCI   Female                   25.0000        18757.0   \n",
       "\n",
       "   RAVLT_learning_bl  MMSE_bl  APOE4  RAVLT_immediate_bl  PTEDUCAT ...   \\\n",
       "0                4.0       28    0.0                44.0        16 ...    \n",
       "1                7.0       27    0.0                37.0        10 ...    \n",
       "2                4.0       29    0.0                37.0        16 ...    \n",
       "3                1.0       25    0.0                30.0        13 ...    \n",
       "4                7.0       28    0.0                51.0        18 ...    \n",
       "\n",
       "   MH15DRUG  MH16SMOK  MH17MALI  MH18SURG  MH19OTHR  HMHYPERT  HMSTROKE  \\\n",
       "0       0.0       0.0       0.0       0.0       0.0       0.0       0.0   \n",
       "1       0.0       1.0       0.0       1.0       0.0       1.0       0.0   \n",
       "2       0.0       1.0       0.0       1.0       0.0       0.0       0.0   \n",
       "3       0.0       0.0       0.0       1.0       0.0       0.0       0.0   \n",
       "4       0.0       1.0       0.0       1.0       0.0       0.0       0.0   \n",
       "\n",
       "   HMSCORE  GDTOTAL  grp  \n",
       "0      0.0      1.0    0  \n",
       "1      1.0      3.0    0  \n",
       "2      0.0      0.0    0  \n",
       "3      0.0      0.0    0  \n",
       "4      0.0      0.0    0  \n",
       "\n",
       "[5 rows x 50 columns]"
      ]
     },
     "execution_count": 335,
     "metadata": {},
     "output_type": "execute_result"
    }
   ],
   "source": [
    "#Converting \n",
    "#MCI and CN to No-AD (0) and Dementia to AD (1)\n",
    "\n",
    "x2['grp'] = np.where(x2.DX == \"Dementia\", 1, 0)\n",
    "#del x2['DX']\n",
    "del x2['missing']\n",
    "#del x2['RID']\n",
    "x2.head()"
   ]
  },
  {
   "cell_type": "code",
   "execution_count": 351,
   "metadata": {
    "collapsed": true
   },
   "outputs": [],
   "source": [
    "cont = ['RAVLT_perc_forgetting_bl','Ventricles_bl','RAVLT_learning_bl','MMSE_bl','RAVLT_immediate_bl','PTEDUCAT',\n",
    "       'MidTemp_bl','ADAS11_bl','FAQ_bl','ADAS13_bl','AGE','RAVLT_forgetting_bl','ICV','Entorhinal_bl','WholeBrain_bl',\n",
    "       'Fusiform_bl','CDRSB_bl','ADNI_MEM_bl','ADNI_EF_bl','HMSCORE','GDTOTAL']\n",
    "cat = ['PTGENDER','PTMARRY','PTRACCAT']\n",
    "\n",
    "df = pd.get_dummies(x2, prefix=cat, columns=cat, drop_first=True)\n"
   ]
  },
  {
   "cell_type": "code",
   "execution_count": 352,
   "metadata": {},
   "outputs": [],
   "source": [
    "del df['DX']\n",
    "del df['RID']"
   ]
  },
  {
   "cell_type": "code",
   "execution_count": 353,
   "metadata": {},
   "outputs": [
    {
     "data": {
      "text/plain": [
       "Index(['RAVLT_perc_forgetting_bl', 'Ventricles_bl', 'RAVLT_learning_bl',\n",
       "       'MMSE_bl', 'APOE4', 'RAVLT_immediate_bl', 'PTEDUCAT', 'MidTemp_bl',\n",
       "       'ADAS11_bl', 'FAQ_bl', 'ADAS13_bl', 'AGE', 'RAVLT_forgetting_bl',\n",
       "       'Hippocampus_bl', 'ICV_bl', 'Entorhinal_bl', 'WholeBrain_bl',\n",
       "       'Fusiform_bl', 'CDRSB_bl', 'ADNI_MEM_bl', 'ADNI_EF_bl', 'MHPSYCH',\n",
       "       'MH2NEURL', 'MH3HEAD', 'MH4CARD', 'MH5RESP', 'MH6HEPAT', 'MH7DERM',\n",
       "       'MH8MUSCL', 'MH9ENDO', 'MH10GAST', 'MH11HEMA', 'MH12RENA', 'MH13ALLE',\n",
       "       'MH14ALCH', 'MH15DRUG', 'MH16SMOK', 'MH17MALI', 'MH18SURG', 'MH19OTHR',\n",
       "       'HMHYPERT', 'HMSTROKE', 'HMSCORE', 'GDTOTAL', 'grp', 'PTGENDER_Male',\n",
       "       'PTMARRY_Married', 'PTMARRY_Never married', 'PTMARRY_Unknown',\n",
       "       'PTMARRY_Widowed', 'PTRACCAT_Asian', 'PTRACCAT_Black',\n",
       "       'PTRACCAT_More than one', 'PTRACCAT_Unknown', 'PTRACCAT_White'],\n",
       "      dtype='object')"
      ]
     },
     "execution_count": 353,
     "metadata": {},
     "output_type": "execute_result"
    }
   ],
   "source": [
    "df.columns"
   ]
  },
  {
   "cell_type": "code",
   "execution_count": 354,
   "metadata": {},
   "outputs": [
    {
     "data": {
      "text/plain": [
       "<matplotlib.axes._subplots.AxesSubplot at 0x3f39af0>"
      ]
     },
     "execution_count": 354,
     "metadata": {},
     "output_type": "execute_result"
    },
    {
     "data": {
      "image/png": "[encoded data removed]",
      "text/plain": [
       "<matplotlib.figure.Figure at 0xf7b3d0>"
      ]
     },
     "metadata": {},
     "output_type": "display_data"
    }
   ],
   "source": [
    "df.boxplot(column='Hippocampus_bl', by='grp')"
   ]
  },
  {
   "cell_type": "code",
   "execution_count": 356,
   "metadata": {},
   "outputs": [],
   "source": [
    "np.random.seed(9001)\n",
    "msk = np.random.rand(len(df)) < 0.80\n",
    "tr = df[msk]\n",
    "ts = df[~msk]"
   ]
  },
  {
   "cell_type": "code",
   "execution_count": 357,
   "metadata": {
    "collapsed": true
   },
   "outputs": [],
   "source": [
    "x = df.columns.tolist()\n",
    "x.remove('grp')\n",
    "X_train = tr[x]\n",
    "X_test = tr[x]\n",
    "y_train = tr['grp']\n",
    "y_test = tr['grp']"
   ]
  },
  {
   "cell_type": "code",
   "execution_count": 1,
   "metadata": {},
   "outputs": [],
   "source": [
    "\n",
    "import project_utils_v2"
   ]
  },
  {
   "cell_type": "code",
   "execution_count": 2,
   "metadata": {},
   "outputs": [
    {
     "name": "stderr",
     "output_type": "stream",
     "text": [
      "C:\\Users\\mathus07\\Desktop\\E-109A\\project\\Code\\project_utils_v2.py:95: SettingWithCopyWarning: \n",
      "A value is trying to be set on a copy of a slice from a DataFrame.\n",
      "Try using .loc[row_indexer,col_indexer] = value instead\n",
      "\n",
      "See the caveats in the documentation: http://pandas.pydata.org/pandas-docs/stable/indexing.html#indexing-view-versus-copy\n",
      "  x2['grp'] = np.where(x2.DX == \"Dementia\", 1, 0)\n"
     ]
    },
    {
     "data": {
      "text/html": [
       "<div>\n",
       "<style>\n",
       "    .dataframe thead tr:only-child th {\n",
       "        text-align: right;\n",
       "    }\n",
       "\n",
       "    .dataframe thead th {\n",
       "        text-align: left;\n",
       "    }\n",
       "\n",
       "    .dataframe tbody tr th {\n",
       "        vertical-align: top;\n",
       "    }\n",
       "</style>\n",
       "<table border=\"1\" class=\"dataframe\">\n",
       "  <thead>\n",
       "    <tr style=\"text-align: right;\">\n",
       "      <th></th>\n",
       "      <th>RAVLT_immediate_bl</th>\n",
       "      <th>ICV_bl</th>\n",
       "      <th>Hippocampus_bl</th>\n",
       "      <th>CDRSB_bl</th>\n",
       "      <th>MidTemp_bl</th>\n",
       "      <th>RAVLT_forgetting_bl</th>\n",
       "      <th>PTEDUCAT</th>\n",
       "      <th>Ventricles_bl</th>\n",
       "      <th>Fusiform_bl</th>\n",
       "      <th>MMSE_bl</th>\n",
       "      <th>...</th>\n",
       "      <th>PTGENDER_Male</th>\n",
       "      <th>PTMARRY_Married</th>\n",
       "      <th>PTMARRY_Never married</th>\n",
       "      <th>PTMARRY_Unknown</th>\n",
       "      <th>PTMARRY_Widowed</th>\n",
       "      <th>PTRACCAT_Asian</th>\n",
       "      <th>PTRACCAT_Black</th>\n",
       "      <th>PTRACCAT_More than one</th>\n",
       "      <th>PTRACCAT_Unknown</th>\n",
       "      <th>PTRACCAT_White</th>\n",
       "    </tr>\n",
       "  </thead>\n",
       "  <tbody>\n",
       "    <tr>\n",
       "      <th>0</th>\n",
       "      <td>44.0</td>\n",
       "      <td>1984660.0</td>\n",
       "      <td>8336.0</td>\n",
       "      <td>0.0</td>\n",
       "      <td>27936.0</td>\n",
       "      <td>6.0</td>\n",
       "      <td>16</td>\n",
       "      <td>118233.0</td>\n",
       "      <td>16559.0</td>\n",
       "      <td>28</td>\n",
       "      <td>...</td>\n",
       "      <td>1</td>\n",
       "      <td>1</td>\n",
       "      <td>0</td>\n",
       "      <td>0</td>\n",
       "      <td>0</td>\n",
       "      <td>0</td>\n",
       "      <td>0</td>\n",
       "      <td>0</td>\n",
       "      <td>0</td>\n",
       "      <td>1</td>\n",
       "    </tr>\n",
       "    <tr>\n",
       "      <th>3</th>\n",
       "      <td>30.0</td>\n",
       "      <td>1485830.0</td>\n",
       "      <td>5348.0</td>\n",
       "      <td>0.5</td>\n",
       "      <td>17802.0</td>\n",
       "      <td>5.0</td>\n",
       "      <td>13</td>\n",
       "      <td>39826.0</td>\n",
       "      <td>17963.0</td>\n",
       "      <td>25</td>\n",
       "      <td>...</td>\n",
       "      <td>0</td>\n",
       "      <td>1</td>\n",
       "      <td>0</td>\n",
       "      <td>0</td>\n",
       "      <td>0</td>\n",
       "      <td>0</td>\n",
       "      <td>0</td>\n",
       "      <td>0</td>\n",
       "      <td>0</td>\n",
       "      <td>1</td>\n",
       "    </tr>\n",
       "    <tr>\n",
       "      <th>5</th>\n",
       "      <td>45.0</td>\n",
       "      <td>1269540.0</td>\n",
       "      <td>6730.0</td>\n",
       "      <td>0.0</td>\n",
       "      <td>17798.0</td>\n",
       "      <td>4.0</td>\n",
       "      <td>12</td>\n",
       "      <td>46279.0</td>\n",
       "      <td>13779.0</td>\n",
       "      <td>29</td>\n",
       "      <td>...</td>\n",
       "      <td>0</td>\n",
       "      <td>0</td>\n",
       "      <td>0</td>\n",
       "      <td>0</td>\n",
       "      <td>0</td>\n",
       "      <td>0</td>\n",
       "      <td>0</td>\n",
       "      <td>0</td>\n",
       "      <td>0</td>\n",
       "      <td>1</td>\n",
       "    </tr>\n",
       "    <tr>\n",
       "      <th>6</th>\n",
       "      <td>50.0</td>\n",
       "      <td>1501000.0</td>\n",
       "      <td>6732.0</td>\n",
       "      <td>0.0</td>\n",
       "      <td>17273.0</td>\n",
       "      <td>3.0</td>\n",
       "      <td>18</td>\n",
       "      <td>33420.0</td>\n",
       "      <td>14953.0</td>\n",
       "      <td>29</td>\n",
       "      <td>...</td>\n",
       "      <td>1</td>\n",
       "      <td>1</td>\n",
       "      <td>0</td>\n",
       "      <td>0</td>\n",
       "      <td>0</td>\n",
       "      <td>0</td>\n",
       "      <td>0</td>\n",
       "      <td>0</td>\n",
       "      <td>0</td>\n",
       "      <td>1</td>\n",
       "    </tr>\n",
       "    <tr>\n",
       "      <th>7</th>\n",
       "      <td>40.0</td>\n",
       "      <td>1352000.0</td>\n",
       "      <td>7309.0</td>\n",
       "      <td>0.0</td>\n",
       "      <td>17596.0</td>\n",
       "      <td>6.0</td>\n",
       "      <td>9</td>\n",
       "      <td>17315.0</td>\n",
       "      <td>15931.0</td>\n",
       "      <td>28</td>\n",
       "      <td>...</td>\n",
       "      <td>1</td>\n",
       "      <td>1</td>\n",
       "      <td>0</td>\n",
       "      <td>0</td>\n",
       "      <td>0</td>\n",
       "      <td>0</td>\n",
       "      <td>1</td>\n",
       "      <td>0</td>\n",
       "      <td>0</td>\n",
       "      <td>0</td>\n",
       "    </tr>\n",
       "  </tbody>\n",
       "</table>\n",
       "<p>5 rows × 54 columns</p>\n",
       "</div>"
      ],
      "text/plain": [
       "   RAVLT_immediate_bl     ICV_bl  Hippocampus_bl  CDRSB_bl  MidTemp_bl  \\\n",
       "0                44.0  1984660.0          8336.0       0.0     27936.0   \n",
       "3                30.0  1485830.0          5348.0       0.5     17802.0   \n",
       "5                45.0  1269540.0          6730.0       0.0     17798.0   \n",
       "6                50.0  1501000.0          6732.0       0.0     17273.0   \n",
       "7                40.0  1352000.0          7309.0       0.0     17596.0   \n",
       "\n",
       "   RAVLT_forgetting_bl  PTEDUCAT  Ventricles_bl  Fusiform_bl  MMSE_bl  \\\n",
       "0                  6.0        16       118233.0      16559.0       28   \n",
       "3                  5.0        13        39826.0      17963.0       25   \n",
       "5                  4.0        12        46279.0      13779.0       29   \n",
       "6                  3.0        18        33420.0      14953.0       29   \n",
       "7                  6.0         9        17315.0      15931.0       28   \n",
       "\n",
       "        ...        PTGENDER_Male  PTMARRY_Married  PTMARRY_Never married  \\\n",
       "0       ...                    1                1                      0   \n",
       "3       ...                    0                1                      0   \n",
       "5       ...                    0                0                      0   \n",
       "6       ...                    1                1                      0   \n",
       "7       ...                    1                1                      0   \n",
       "\n",
       "   PTMARRY_Unknown  PTMARRY_Widowed  PTRACCAT_Asian  PTRACCAT_Black  \\\n",
       "0                0                0               0               0   \n",
       "3                0                0               0               0   \n",
       "5                0                0               0               0   \n",
       "6                0                0               0               0   \n",
       "7                0                0               0               1   \n",
       "\n",
       "   PTRACCAT_More than one  PTRACCAT_Unknown  PTRACCAT_White  \n",
       "0                       0                 0               1  \n",
       "3                       0                 0               1  \n",
       "5                       0                 0               1  \n",
       "6                       0                 0               1  \n",
       "7                       0                 0               0  \n",
       "\n",
       "[5 rows x 54 columns]"
      ]
     },
     "execution_count": 2,
     "metadata": {},
     "output_type": "execute_result"
    }
   ],
   "source": [
    "X_train, y_train, X_test, y_test = project_utils_v2.get_data()\n",
    "X_train.head()"
   ]
  },
  {
   "cell_type": "code",
   "execution_count": 20,
   "metadata": {},
   "outputs": [
    {
     "name": "stdout",
     "output_type": "stream",
     "text": [
      "Counter({0: 336, 1: 156})\n",
      "Counter({0: 97, 1: 40})\n"
     ]
    },
    {
     "data": {
      "text/plain": [
       "['ADAS13_bl',\n",
       " 'RAVLT_immediate_bl',\n",
       " 'ICV_bl',\n",
       " 'AGE',\n",
       " 'WholeBrain_bl',\n",
       " 'Entorhinal_bl',\n",
       " 'RAVLT_learning_bl',\n",
       " 'Hippocampus_bl',\n",
       " 'ADAS11_bl',\n",
       " 'RAVLT_perc_forgetting_bl',\n",
       " 'CDRSB_bl',\n",
       " 'MidTemp_bl',\n",
       " 'Fusiform_bl',\n",
       " 'RAVLT_forgetting_bl',\n",
       " 'PTEDUCAT',\n",
       " 'MMSE_bl',\n",
       " 'Ventricles_bl',\n",
       " 'FAQ_bl',\n",
       " 'APOE4']"
      ]
     },
     "execution_count": 20,
     "metadata": {},
     "output_type": "execute_result"
    }
   ],
   "source": [
    "\n",
    "print(Counter(y_train))\n",
    "print(Counter(y_test))\n",
    "X_train.shape\n",
    "list(set(qqq).intersection(X_train.columns.tolist()))"
   ]
  },
  {
   "cell_type": "code",
   "execution_count": 6,
   "metadata": {},
   "outputs": [],
   "source": [
    "from sklearn.model_selection import GridSearchCV\n",
    "def cv_optimize(clf, parameters, Xtrain, ytrain, n_folds=5, scoring=None):\n",
    "    if not scoring:\n",
    "        gs = GridSearchCV(clf, param_grid=parameters, cv=n_folds)\n",
    "    else:\n",
    "        gs = GridSearchCV(clf, param_grid=parameters, cv=n_folds, scoring=scoring)\n",
    "    gs.fit(Xtrain, ytrain)\n",
    "    print(\"BEST PARAMS\", gs.best_params_)\n",
    "    return gs"
   ]
  },
  {
   "cell_type": "code",
   "execution_count": 7,
   "metadata": {
    "collapsed": true
   },
   "outputs": [],
   "source": [
    "def classify_with_sets(clf, parameters, sets, n_folds = 5, scoring=None):\n",
    "    Xtrain, Xtest, ytrain, ytest = sets['Xtrain'], sets['Xtest'], sets['ytrain'], sets['ytest']\n",
    "    gs = cv_optimize(clf, parameters, Xtrain, ytrain, n_folds=n_folds, scoring=scoring)\n",
    "    training_score = gs.score(Xtrain, ytrain)\n",
    "    test_score = gs.score(Xtest, ytest)\n",
    "    print(\"Score on training data: %0.2f\" % (training_score))\n",
    "    print(\"Score on test data:     %0.2f\" % (test_score))\n",
    "    return gs"
   ]
  },
  {
   "cell_type": "code",
   "execution_count": 8,
   "metadata": {},
   "outputs": [
    {
     "name": "stdout",
     "output_type": "stream",
     "text": [
      "BEST PARAMS {'C': 10000}\n",
      "Score on training data: 0.80\n",
      "Score on test data:     0.77\n"
     ]
    }
   ],
   "source": [
    "cvals = [1e-20, 1e-15, 1e-10, 1e-5, 1e-3, 1e-1, 1, 10, 100, 10000, 100000]\n",
    "set1={}\n",
    "set1['Xtrain'] = X_train\n",
    "set1['Xtest'] = X_test\n",
    "set1['ytrain'] = y_train\n",
    "set1['ytest'] = y_test\n",
    "s = classify_with_sets(LogisticRegression(), {\"C\": cvals}, set1, n_folds=5) \n"
   ]
  },
  {
   "cell_type": "code",
   "execution_count": 9,
   "metadata": {},
   "outputs": [
    {
     "data": {
      "text/plain": [
       "LogisticRegressionCV(Cs=[10000], class_weight=None, cv=None, dual=False,\n",
       "           fit_intercept=True, intercept_scaling=1.0, max_iter=100,\n",
       "           multi_class='ovr', n_jobs=1, penalty='l2', random_state=None,\n",
       "           refit=True, scoring=None, solver='lbfgs', tol=0.0001, verbose=0)"
      ]
     },
     "execution_count": 9,
     "metadata": {},
     "output_type": "execute_result"
    }
   ],
   "source": [
    "logregcv = LogisticRegressionCV(Cs=[10000])\n",
    "logregcv.fit(X_train, y_train)\n"
   ]
  },
  {
   "cell_type": "code",
   "execution_count": 10,
   "metadata": {},
   "outputs": [
    {
     "data": {
      "image/png": "[encoded data removed]",
      "text/plain": [
       "<matplotlib.figure.Figure at 0xcb6c730>"
      ]
     },
     "metadata": {},
     "output_type": "display_data"
    }
   ],
   "source": [
    "preds = logregcv.predict_proba(X_test)[:,1]\n",
    "fpr, tpr, thresholds = metrics.roc_curve(y_test, preds)\n",
    "plt.figure(figsize=(20,10))\n",
    "lw = 2\n",
    "roc_auc = metrics.auc(fpr, tpr)\n",
    "plt.plot(fpr, tpr, color='darkorange', lw=lw, label='ROC curve (area = %0.2f) LogReg' % roc_auc)\n",
    "plt.plot([0, 1], [0, 1], color='navy', lw=lw, linestyle='--')\n",
    "plt.xlim([-0.02, 1.0])\n",
    "plt.ylim([-0.02, 1.05])\n",
    "plt.xlabel('False Positive Rate')\n",
    "plt.ylabel('True Positive Rate')\n",
    "plt.title('Receiver operating characteristic')\n",
    "plt.legend(loc=\"lower right\", prop={'size':20})\n",
    "plt.show()"
   ]
  },
  {
   "cell_type": "code",
   "execution_count": null,
   "metadata": {
    "collapsed": true
   },
   "outputs": [],
   "source": []
  }
 ],
 "metadata": {
  "kernelspec": {
   "display_name": "Python 3",
   "language": "python",
   "name": "python3"
  },
  "language_info": {
   "codemirror_mode": {
    "name": "ipython",
    "version": 3
   },
   "file_extension": ".py",
   "mimetype": "text/x-python",
   "name": "python",
   "nbconvert_exporter": "python",
   "pygments_lexer": "ipython3",
   "version": "3.6.1"
  }
 },
 "nbformat": 4,
 "nbformat_minor": 2
}
