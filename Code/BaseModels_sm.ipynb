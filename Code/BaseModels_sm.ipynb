{
 "cells": [
  {
   "cell_type": "code",
   "execution_count": 1,
   "metadata": {
    "collapsed": true
   },
   "outputs": [],
   "source": [
    "import pandas as pd\n",
    "import numpy as np\n",
    "import project_utils_v2\n",
    "\n",
    "from sklearn.linear_model import LogisticRegression\n",
    "from sklearn.linear_model import LogisticRegressionCV\n",
    "from collections import Counter\n",
    "from sklearn.preprocessing import PolynomialFeatures\n",
    "from sklearn.linear_model import LassoCV\n",
    "from sklearn.decomposition import PCA\n",
    "import sklearn.metrics as metrics\n",
    "from sklearn.preprocessing import PolynomialFeatures\n",
    "from sklearn.discriminant_analysis import LinearDiscriminantAnalysis\n",
    "from sklearn.discriminant_analysis import QuadraticDiscriminantAnalysis\n",
    "from sklearn.linear_model import LinearRegression\n",
    "from sklearn.neighbors import KNeighborsClassifier\n",
    "from sklearn.tree import DecisionTreeClassifier\n",
    "\n",
    "import matplotlib.pyplot as plt\n",
    "import warnings\n",
    "warnings.filterwarnings('ignore')\n",
    "%matplotlib inline"
   ]
  },
  {
   "cell_type": "code",
   "execution_count": 2,
   "metadata": {},
   "outputs": [
    {
     "name": "stdout",
     "output_type": "stream",
     "text": [
      "<class 'pandas.core.frame.DataFrame'>\n",
      "Int64Index: 492 entries, 0 to 759\n",
      "Data columns (total 54 columns):\n",
      "ADAS13_bl                   492 non-null float64\n",
      "ADAS11_bl                   492 non-null float64\n",
      "RAVLT_immediate_bl          492 non-null float64\n",
      "ICV_bl                      492 non-null float64\n",
      "AGE                         492 non-null float64\n",
      "Entorhinal_bl               492 non-null float64\n",
      "RAVLT_learning_bl           492 non-null float64\n",
      "Hippocampus_bl              492 non-null float64\n",
      "WholeBrain_bl               492 non-null float64\n",
      "RAVLT_perc_forgetting_bl    492 non-null float64\n",
      "CDRSB_bl                    492 non-null float64\n",
      "MidTemp_bl                  492 non-null float64\n",
      "Fusiform_bl                 492 non-null float64\n",
      "RAVLT_forgetting_bl         492 non-null float64\n",
      "PTEDUCAT                    492 non-null int64\n",
      "MMSE_bl                     492 non-null int64\n",
      "Ventricles_bl               492 non-null float64\n",
      "FAQ_bl                      492 non-null float64\n",
      "APOE4                       492 non-null float64\n",
      "ADNI_MEM_bl                 492 non-null float64\n",
      "ADNI_EF_bl                  492 non-null float64\n",
      "MHPSYCH                     492 non-null float64\n",
      "MH2NEURL                    492 non-null float64\n",
      "MH3HEAD                     492 non-null float64\n",
      "MH4CARD                     492 non-null float64\n",
      "MH5RESP                     492 non-null float64\n",
      "MH6HEPAT                    492 non-null float64\n",
      "MH7DERM                     492 non-null float64\n",
      "MH8MUSCL                    492 non-null float64\n",
      "MH9ENDO                     492 non-null float64\n",
      "MH10GAST                    492 non-null float64\n",
      "MH11HEMA                    492 non-null float64\n",
      "MH12RENA                    492 non-null float64\n",
      "MH13ALLE                    492 non-null float64\n",
      "MH14ALCH                    492 non-null float64\n",
      "MH15DRUG                    492 non-null float64\n",
      "MH16SMOK                    492 non-null float64\n",
      "MH17MALI                    492 non-null float64\n",
      "MH18SURG                    492 non-null float64\n",
      "MH19OTHR                    492 non-null float64\n",
      "HMHYPERT                    492 non-null float64\n",
      "HMSTROKE                    492 non-null float64\n",
      "HMSCORE                     492 non-null float64\n",
      "GDTOTAL                     492 non-null float64\n",
      "PTGENDER_Male               492 non-null uint8\n",
      "PTMARRY_Married             492 non-null uint8\n",
      "PTMARRY_Never married       492 non-null uint8\n",
      "PTMARRY_Unknown             492 non-null uint8\n",
      "PTMARRY_Widowed             492 non-null uint8\n",
      "PTRACCAT_Asian              492 non-null uint8\n",
      "PTRACCAT_Black              492 non-null uint8\n",
      "PTRACCAT_More than one      492 non-null uint8\n",
      "PTRACCAT_Unknown            492 non-null uint8\n",
      "PTRACCAT_White              492 non-null uint8\n",
      "dtypes: float64(42), int64(2), uint8(10)\n",
      "memory usage: 177.8 KB\n"
     ]
    },
    {
     "data": {
      "text/plain": [
       "Counter({0: 97, 1: 40})"
      ]
     },
     "execution_count": 2,
     "metadata": {},
     "output_type": "execute_result"
    }
   ],
   "source": [
    "X_train, y_train, X_test, y_test = project_utils_v2.get_data()\n",
    "X_train.info()\n",
    "Counter(y_test)"
   ]
  },
  {
   "cell_type": "code",
   "execution_count": 3,
   "metadata": {
    "collapsed": true
   },
   "outputs": [],
   "source": [
    "from sklearn.model_selection import GridSearchCV\n",
    "def cv_optimize(clf, parameters, Xtrain, ytrain, n_folds=5, scoring=None):\n",
    "    if not scoring:\n",
    "        gs = GridSearchCV(clf, param_grid=parameters, cv=n_folds)\n",
    "    else:\n",
    "        gs = GridSearchCV(clf, param_grid=parameters, cv=n_folds, scoring=scoring)\n",
    "    gs.fit(Xtrain, ytrain)\n",
    "    print(\"BEST PARAMS\", gs.best_params_)\n",
    "    return gs"
   ]
  },
  {
   "cell_type": "code",
   "execution_count": 4,
   "metadata": {
    "collapsed": true
   },
   "outputs": [],
   "source": [
    "def classify_with_sets(clf, parameters, sets, n_folds = 5, scoring=None):\n",
    "    Xtrain, Xtest, ytrain, ytest = sets['Xtrain'], sets['Xtest'], sets['ytrain'], sets['ytest']\n",
    "    gs = cv_optimize(clf, parameters, Xtrain, ytrain, n_folds=n_folds, scoring=scoring)\n",
    "    training_score = gs.score(Xtrain, ytrain)\n",
    "    test_score = gs.score(Xtest, ytest)\n",
    "    print(\"Score on training data: %0.2f\" % (training_score))\n",
    "    print(\"Score on test data:     %0.2f\" % (test_score))\n",
    "    return gs"
   ]
  },
  {
   "cell_type": "code",
   "execution_count": 5,
   "metadata": {},
   "outputs": [
    {
     "name": "stdout",
     "output_type": "stream",
     "text": [
      "BEST PARAMS {'C': 10}\n",
      "Score on training data: 0.77\n",
      "Score on test data:     0.77\n"
     ]
    }
   ],
   "source": [
    "cvals = [1e-20, 1e-15, 1e-10, 1e-5, 1e-3, 1e-1, 1, 10, 100, 10000, 100000]\n",
    "set1={}\n",
    "set1['Xtrain'] = X_train\n",
    "set1['Xtest'] = X_test\n",
    "set1['ytrain'] = y_train\n",
    "set1['ytest'] = y_test\n",
    "s = classify_with_sets(LogisticRegression(), {\"C\": cvals}, set1, n_folds=5) \n"
   ]
  },
  {
   "cell_type": "code",
   "execution_count": 6,
   "metadata": {},
   "outputs": [
    {
     "data": {
      "text/plain": [
       "LogisticRegressionCV(Cs=[1e-20, 1e-15, 1e-10, 1e-05, 0.001, 0.1, 1, 10, 100, 10000, 100000],\n",
       "           class_weight=None, cv=None, dual=False, fit_intercept=True,\n",
       "           intercept_scaling=1.0, max_iter=100, multi_class='ovr',\n",
       "           n_jobs=1, penalty='l2', random_state=None, refit=True,\n",
       "           scoring=None, solver='lbfgs', tol=0.0001, verbose=0)"
      ]
     },
     "execution_count": 6,
     "metadata": {},
     "output_type": "execute_result"
    }
   ],
   "source": [
    "logregcv = LogisticRegressionCV(Cs=[1e-20, 1e-15, 1e-10, 1e-5, 1e-3, 1e-1, 1, 10, 100, 10000, 100000])\n",
    "logregcv.fit(X_train, y_train)"
   ]
  },
  {
   "cell_type": "code",
   "execution_count": 7,
   "metadata": {},
   "outputs": [
    {
     "data": {
      "image/png": "[encoded data removed]",
      "text/plain": [
       "<matplotlib.figure.Figure at 0x475bbb0>"
      ]
     },
     "metadata": {},
     "output_type": "display_data"
    }
   ],
   "source": [
    "preds = logregcv.predict_proba(X_test)[:,1]\n",
    "fpr, tpr, thresholds = metrics.roc_curve(y_test, preds)\n",
    "plt.figure(figsize=(20,10))\n",
    "lw = 2\n",
    "roc_auc = metrics.auc(fpr, tpr)\n",
    "plt.plot(fpr, tpr, color='darkorange', lw=lw, label='ROC curve (area = %0.2f) LogReg' % roc_auc)\n",
    "plt.plot([0, 1], [0, 1], color='navy', lw=lw, linestyle='--')\n",
    "plt.xlim([-0.02, 1.0])\n",
    "plt.ylim([-0.02, 1.05])\n",
    "plt.xlabel('False Positive Rate')\n",
    "plt.ylabel('True Positive Rate')\n",
    "plt.title('Receiver operating characteristic')\n",
    "plt.legend(loc=\"lower right\", prop={'size':20})\n",
    "plt.show()"
   ]
  },
  {
   "cell_type": "code",
   "execution_count": null,
   "metadata": {},
   "outputs": [],
   "source": [
    "from sklearn.metrics import confusion_matrix\n",
    "c = LogisticRegression(C=100)\n",
    "c.fit(set1['Xtrain'], set1['ytrain'])\n",
    "p = confusion_matrix(set1['ytest'], c.predict(set1['Xtest']))\n",
    "p1 = pd.DataFrame(p,columns=['CN_Pred','MCI_Pred','Dementia_Pred'],index = ['CN','MCI','Dementia'])\n",
    "p1"
   ]
  },
  {
   "cell_type": "code",
   "execution_count": null,
   "metadata": {
    "collapsed": true
   },
   "outputs": [],
   "source": [
    "#Adding polynomial features\n",
    "poly = PolynomialFeatures(2, interaction_only=False)\n",
    "X_train_poly = pd.DataFrame(poly.fit_transform(X_train), columns = poly.get_feature_names(X_train.columns))\n",
    "X_test_poly = pd.DataFrame(poly.fit_transform(X_test), columns = poly.get_feature_names(X_test.columns))\n",
    "\n"
   ]
  },
  {
   "cell_type": "code",
   "execution_count": null,
   "metadata": {},
   "outputs": [],
   "source": [
    "#lcv = LogisticRegressionCV()\n",
    "lambdas = [.001,.005,1,5,10,50,100,500,1000]\n",
    "clf = LassoCV(cv=10, alphas=lambdas, fit_intercept=False, normalize=False)\n",
    "clf.fit(X_train_poly, y_train)\n",
    "\n"
   ]
  },
  {
   "cell_type": "code",
   "execution_count": null,
   "metadata": {
    "collapsed": true
   },
   "outputs": [],
   "source": []
  }
 ],
 "metadata": {
  "kernelspec": {
   "display_name": "Python 3",
   "language": "python",
   "name": "python3"
  },
  "language_info": {
   "codemirror_mode": {
    "name": "ipython",
    "version": 3
   },
   "file_extension": ".py",
   "mimetype": "text/x-python",
   "name": "python",
   "nbconvert_exporter": "python",
   "pygments_lexer": "ipython3",
   "version": "3.6.1"
  }
 },
 "nbformat": 4,
 "nbformat_minor": 2
}
